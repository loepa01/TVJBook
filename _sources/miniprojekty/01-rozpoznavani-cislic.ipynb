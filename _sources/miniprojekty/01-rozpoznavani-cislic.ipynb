{
 "cells": [
  {
   "cell_type": "markdown",
   "id": "968f5019",
   "metadata": {},
   "source": [
    "# Rozpoznávání číslic pomocí neuronových sítí"
   ]
  }
 ],
 "metadata": {
  "language_info": {
   "name": "python"
  }
 },
 "nbformat": 4,
 "nbformat_minor": 5
}
