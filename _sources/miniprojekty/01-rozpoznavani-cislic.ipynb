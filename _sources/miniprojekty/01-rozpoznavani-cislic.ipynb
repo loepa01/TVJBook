{
 "cells": [
  {
   "cell_type": "markdown",
   "id": "968f5019",
   "metadata": {},
   "source": [
    "# Rozpoznávání číslic pomocí neuronových sítí"
   ]
  },
  {
   "cell_type": "markdown",
   "id": "35357321",
   "metadata": {},
   "source": [
    "## Úkoly\n",
    "1. Seznámení s datasetem\n",
    "2. Vykreslit histogram počtu jednotlivých číslic v datasetu\n",
    "3. Konstrukce modelu I - MLP (více vrstvý perceptron)\n",
    "4. Vylepšení pomocí pokročilých technik učení + ladění *hyperparametrů* (learning rate, epochy, batch size, počet skrytých neuronů, dropout)\n",
    "5. Konstrukce modelu II - přidání konvolučních vrstev\n",
    "6. Vylepšení pomocí pokročilých technik učení + ladění *hyperparametrů* (learning rate, epochy, batch size, počet skrytých neuronů, dropout)\n",
    "7. Srovnání MLP vs ConvNet\n",
    "8. Analýza vah konvolučních vrstev, interpretace aktivací neuronů a chybné případy (závěr notebooku)\n",
    "9. Cíl: >99% přesnost na testovacích datech\n",
    "\n",
    "Bonusy:\n",
    "\n",
    "0. zvýšení přesnosti na 99.9 %\n",
    "1. jiný dataset: MNIST Fashion?, ...\n",
    "2. kreslící appka?"
   ]
  },
  {
   "cell_type": "markdown",
   "id": "47c0e248",
   "metadata": {},
   "source": [
    "!pip install -r requirements.txt"
   ]
  },
  {
   "cell_type": "code",
   "execution_count": 35,
   "id": "fc4fca6e",
   "metadata": {},
   "outputs": [],
   "source": [
    "import matplotlib.pyplot as plt\n",
    "import numpy as np\n",
    "import torch"
   ]
  },
  {
   "cell_type": "code",
   "execution_count": null,
   "id": "452bfcbf",
   "metadata": {},
   "outputs": [],
   "source": [
    "# Make device agnostic code\n",
    "device = \"cuda\" if torch.cuda.is_available() else \"cpu\"\n",
    "device"
   ]
  },
  {
   "cell_type": "code",
   "execution_count": 37,
   "id": "b8ee70ab",
   "metadata": {},
   "outputs": [],
   "source": [
    "#device = 'cpu'  # Force CPU for this example"
   ]
  },
  {
   "cell_type": "code",
   "execution_count": null,
   "id": "dba36762",
   "metadata": {},
   "outputs": [],
   "source": [
    "torch.device(device)"
   ]
  },
  {
   "cell_type": "markdown",
   "id": "f8c8e7a5",
   "metadata": {},
   "source": [
    "## Příprava dat"
   ]
  },
  {
   "cell_type": "code",
   "execution_count": null,
   "id": "adccd4fe",
   "metadata": {},
   "outputs": [],
   "source": [
    "from torchvision.datasets import MNIST\n",
    "\n",
    "dataset = MNIST(root = 'datasets/', download = True)\n",
    "print(len(dataset))"
   ]
  },
  {
   "cell_type": "code",
   "execution_count": null,
   "id": "599be34e",
   "metadata": {},
   "outputs": [],
   "source": [
    "N = 64\n",
    "plt.figure(figsize=(6, 8))\n",
    "for i in range(N):\n",
    "    a = int(np.sqrt(N))\n",
    "    plt.subplot(a, a, i + 1)\n",
    "    image, label = dataset[i]\n",
    "    #image = np.array(image)\n",
    "    #image = image.reshape((28, 28))\n",
    "    plt.axis('off')\n",
    "    plt.imshow(image, cmap = 'gray')\n",
    "    plt.title(f'label: {label}')\n",
    "plt.tight_layout(rect=[0, 0.03, 1, 0.95])\n",
    "plt.suptitle('MNIST Dataset Samples', fontsize=16)\n",
    "plt.show()"
   ]
  },
  {
   "cell_type": "code",
   "execution_count": null,
   "id": "e7cadfce",
   "metadata": {},
   "outputs": [],
   "source": [
    "# DOPLNIT: histogram (krok 2)"
   ]
  },
  {
   "cell_type": "code",
   "execution_count": null,
   "id": "fe2ed882",
   "metadata": {},
   "outputs": [],
   "source": [
    "test_fraction = 0.2\n",
    "\n",
    "Ntrain = int(len(dataset) * (1 - test_fraction))\n",
    "print(f'Train size: {Ntrain}, Test size: {len(dataset) - Ntrain}')\n",
    "\n",
    "X_train, y_train = dataset.data[:Ntrain], dataset.targets[:Ntrain]\n",
    "X_test, y_test = dataset.data[Ntrain:], dataset.targets[Ntrain:]"
   ]
  },
  {
   "cell_type": "code",
   "execution_count": 42,
   "id": "93ae0ea3",
   "metadata": {},
   "outputs": [],
   "source": [
    "# Scale images to the [0, 1] range\n",
    "X_train = X_train.float() / 255\n",
    "X_test = X_test.float() / 255\n",
    "\n",
    "X_train = X_train.unsqueeze(1)  # Add channel dimension\n",
    "X_test = X_test.unsqueeze(1)    # Add channel dimension\n",
    "\n",
    "def to_categorical(y, num_classes):\n",
    "    \"\"\" 1-hot encodes a tensor \"\"\"\n",
    "    return torch.eye(num_classes)[y].float()\n",
    "\n",
    "num_classes = 10\n",
    "\n",
    "# convert class vectors to binary class matrices\n",
    "y_train = to_categorical(y_train, num_classes)\n",
    "y_test = to_categorical(y_test, num_classes)"
   ]
  },
  {
   "cell_type": "code",
   "execution_count": null,
   "id": "8fc4f267",
   "metadata": {},
   "outputs": [],
   "source": [
    "X_train.shape"
   ]
  },
  {
   "cell_type": "code",
   "execution_count": null,
   "id": "05312434",
   "metadata": {},
   "outputs": [],
   "source": [
    "y_train[0], y_train.shape"
   ]
  },
  {
   "cell_type": "markdown",
   "id": "7e570418",
   "metadata": {},
   "source": [
    "## Konstrukce modelu"
   ]
  },
  {
   "cell_type": "markdown",
   "id": "d7b88f4d",
   "metadata": {},
   "source": [
    "Návody:\n",
    "\n",
    "https://docs.pytorch.org/docs/stable/generated/torch.nn.Sequential.html\n",
    "\n",
    "https://docs.pytorch.org/tutorials/beginner/introyt/modelsyt_tutorial.html"
   ]
  },
  {
   "cell_type": "markdown",
   "id": "f4b3d6f7",
   "metadata": {},
   "source": [
    "### MLP model"
   ]
  },
  {
   "cell_type": "code",
   "execution_count": null,
   "id": "ce4ae840",
   "metadata": {},
   "outputs": [],
   "source": [
    "import torch.nn as nn\n",
    "import torch.optim as optim\n",
    "\n",
    "input_size = (1, 28, 28)  # (channels, height, width)\n",
    "\n",
    "hidden_size = ?  # Example hidden layer size\n",
    "\n",
    "num_classes = 10\n",
    "\n",
    "# Define the CNN model\n",
    "model = nn.Sequential(\n",
    "    \n",
    "    # DOPLNIT: konstrukce modelu\n",
    "    \n",
    ").to(device)\n",
    "print(model)\n",
    "\n",
    "learning_rate = ?\n",
    "\n",
    "# loss function and optimizer\n",
    "loss_fn = nn.CrossEntropyLoss().to(device)  # cross entropy\n",
    "optimizer = optim.Adam(model.parameters(), lr=learning_rate)"
   ]
  },
  {
   "cell_type": "markdown",
   "id": "390c2b8d",
   "metadata": {},
   "source": [
    "### CNN model"
   ]
  },
  {
   "cell_type": "code",
   "execution_count": null,
   "id": "7aac5f3a",
   "metadata": {},
   "outputs": [],
   "source": [
    "import torch.nn as nn\n",
    "import torch.optim as optim\n",
    "\n",
    "input_size = (1, 28, 28)  # (channels, height, width)\n",
    "\n",
    "kernel_size = ?\n",
    "padding = kernel_size // 2  # Padding to keep the output size same as input size\n",
    "\n",
    "channels_1 = ?\n",
    "channels_2 = ?\n",
    "\n",
    "kernel_size_pool = ?\n",
    "stride_pool = ?\n",
    "\n",
    "num_classes = 10\n",
    "\n",
    "# Define the CNN model\n",
    "model = nn.Sequential(\n",
    "    \n",
    "    # DOPLNIT: konstrukce modelu\n",
    "    \n",
    ").to(device)\n",
    "print(model)\n",
    "\n",
    "learning_rate = ?\n",
    "\n",
    "# loss function and optimizer\n",
    "loss_fn = nn.CrossEntropyLoss().to(device)  # cross entropy\n",
    "optimizer = optim.Adam(model.parameters(), lr=learning_rate)"
   ]
  },
  {
   "cell_type": "code",
   "execution_count": null,
   "id": "83ef14d2",
   "metadata": {},
   "outputs": [],
   "source": [
    "from torchsummary import summary\n",
    "\n",
    "summary(model, input_size=input_size, device=device)"
   ]
  },
  {
   "cell_type": "markdown",
   "id": "485fbb4d",
   "metadata": {},
   "source": [
    "## Trénování neuronové sítě"
   ]
  },
  {
   "cell_type": "markdown",
   "id": "80cd5173",
   "metadata": {},
   "source": [
    "To keep track of how long training takes I am adding a\n",
    "`timeSince(timestamp)` function which returns a human readable string:\n"
   ]
  },
  {
   "cell_type": "code",
   "execution_count": 48,
   "id": "071a9414",
   "metadata": {},
   "outputs": [],
   "source": [
    "import time\n",
    "import math\n",
    "\n",
    "def timeSince(since):\n",
    "    now = time.time()\n",
    "    s = now - since\n",
    "    m = math.floor(s / 60)\n",
    "    s -= m * 60\n",
    "    return '%dm %ds' % (m, s)"
   ]
  },
  {
   "cell_type": "code",
   "execution_count": 49,
   "id": "b29a1817",
   "metadata": {},
   "outputs": [],
   "source": [
    "# Calculate accuracy (a classification metric)\n",
    "def accuracy_fn(y_true, y_pred):\n",
    "    y_true = torch.argmax(y_true, dim=1)  # Convert one-hot encoded labels to class indices\n",
    "    y_pred = torch.argmax(y_pred, dim=1)  # Convert model outputs to class indices\n",
    "    correct = torch.eq(y_true, y_pred).sum().item() # torch.eq() calculates where two tensors are equal\n",
    "    acc = (correct / len(y_pred)) * 100 \n",
    "    return acc"
   ]
  },
  {
   "cell_type": "code",
   "execution_count": null,
   "id": "cc27bb32",
   "metadata": {},
   "outputs": [],
   "source": [
    "n_epochs = ?    # number of epochs to run\n",
    "batch_size = ?  # size of each batch\n",
    "batches_per_epoch = len(X_train) // batch_size\n",
    "\n",
    "loss_array = []  # to store loss values\n",
    "acc_array = []  # to store accuracy values\n",
    "test_acc_array = []  # to store test accuracy values\n",
    "\n",
    "# Put data to target device\n",
    "X_train, y_train = X_train.to(device), y_train.to(device)\n",
    "X_test, y_test = X_test.to(device), y_test.to(device)\n",
    "\n",
    "start_time = time.time()\n",
    "\n",
    "# Build training and evaluation loop\n",
    "for epoch in range(n_epochs):\n",
    "    ### Training\n",
    "    model.train()\n",
    "    \n",
    "    for i in range(batches_per_epoch):    \n",
    "        start = i * batch_size\n",
    "        # take a batch\n",
    "        Xbatch = X_train[start:start+batch_size]\n",
    "        ybatch = y_train[start:start+batch_size]\n",
    "        # forward pass\n",
    "        y_pred = model(Xbatch)\n",
    "        #print(y_pred.shape, y_pred[0,:])\n",
    "        loss = loss_fn(y_pred, ybatch)\n",
    "        acc = accuracy_fn(ybatch, y_pred) \n",
    "        # backward pass\n",
    "        optimizer.zero_grad()\n",
    "        loss.backward()\n",
    "        # update weights\n",
    "        optimizer.step()\n",
    "        \n",
    "        loss_array.append(loss.item())\n",
    "        acc_array.append(acc)\n",
    "        \n",
    "        print(f'Epoch {epoch + 1}/{n_epochs}, Batch {i + 1}/{batches_per_epoch} | Loss: {loss:.5f}, Accuracy: {acc:.2f}%', end='\\r')    \n",
    "        \n",
    "    ### Testing\n",
    "    model.eval()\n",
    "    with torch.inference_mode():\n",
    "        # 1. Forward pass\n",
    "        y_pred = model(X_test).squeeze() \n",
    "        # 2. Caculate loss/accuracy\n",
    "        test_loss = loss_fn(y_pred, y_test)\n",
    "        test_acc = accuracy_fn(y_test, y_pred)\n",
    "        \n",
    "        test_acc_array.append(test_acc)\n",
    "\n",
    "        # Print out what's happening every epoch\n",
    "        print(f\"{timeSince(start_time)} | Epoch: {epoch + 1} | Loss: {loss:.5f}, Accuracy: {acc:.2f}% | Test loss: {test_loss:.5f}, Test acc: {test_acc:.2f}%\")\n",
    "        "
   ]
  },
  {
   "cell_type": "code",
   "execution_count": 51,
   "id": "dd2627e0",
   "metadata": {},
   "outputs": [
    {
     "data": {
      "image/png": "[encoded data removed]",
      "text/plain": [
       "<Figure size 1200x500 with 2 Axes>"
      ]
     },
     "metadata": {},
     "output_type": "display_data"
    }
   ],
   "source": [
    "def running_mean(x, N):\n",
    "    cumsum = np.cumsum(np.insert(x, 0, 0)) \n",
    "    r_avg = (cumsum[N:] - cumsum[:-N]) / float(N)\n",
    "    res = np.zeros(len(x))\n",
    "    res[N-1:] = r_avg\n",
    "    for i in range(N-1):\n",
    "        res[i] = (cumsum[i+1]) / float(i+1)\n",
    "    return res\n",
    "\n",
    "plt.figure(figsize=(12, 5))\n",
    "plt.subplot(1, 2, 1)\n",
    "plt.plot(loss_array, label='Training Loss')\n",
    "N_avg = 50  # Number of batches to average over\n",
    "plt.plot(running_mean(loss_array, N_avg), '-', label=f'Running mean ({N_avg} batches)')\n",
    "plt.title('Training Loss')\n",
    "plt.xlabel('Batch Number')\n",
    "plt.ylabel('Loss')\n",
    "plt.yscale('log')\n",
    "plt.legend()\n",
    "plt.subplot(1, 2, 2)\n",
    "plt.plot(acc_array, label='Train Accuracy')\n",
    "plt.plot((np.arange(n_epochs)+1)*batches_per_epoch, test_acc_array, '.r', label='Test Accuracy')\n",
    "plt.legend()\n",
    "plt.title('Accuracy')\n",
    "plt.xlabel('Batch Number')\n",
    "plt.ylabel('Accuracy (%)')\n",
    "plt.tight_layout()"
   ]
  },
  {
   "cell_type": "markdown",
   "id": "58a9484f",
   "metadata": {},
   "source": [
    "## Ohodnocení modelu"
   ]
  },
  {
   "cell_type": "code",
   "execution_count": 52,
   "id": "21f0ba31",
   "metadata": {},
   "outputs": [],
   "source": [
    "# Make predictions\n",
    "model.eval()\n",
    "with torch.inference_mode():\n",
    "    y_preds = model(X_test)  # Apply softmax to get probabilities"
   ]
  },
  {
   "cell_type": "code",
   "execution_count": null,
   "id": "8432c45e",
   "metadata": {},
   "outputs": [],
   "source": [
    "y_pred_nums = np.argmax(y_preds.cpu(), axis=1)\n",
    "correct = np.sum((y_pred_nums == np.argmax(y_test.cpu(), axis=1)).numpy())  # compare with true labels\n",
    "print(f'Accuracy: {correct / len(y_test) * 100:.2f}%')"
   ]
  },
  {
   "cell_type": "code",
   "execution_count": null,
   "id": "0c437286",
   "metadata": {},
   "outputs": [],
   "source": [
    "N = 64\n",
    "plt.figure(figsize=(6, 8))\n",
    "for i in range(N):\n",
    "    a = int(np.sqrt(N))\n",
    "    plt.subplot(a, a, i + 1)\n",
    "    image = X_test[i].cpu().squeeze().numpy()  # Remove channel dimension\n",
    "    label = np.argmax(y_preds[i].cpu().detach().numpy())\n",
    "    plt.axis('off')\n",
    "    plt.imshow(image, cmap = 'gray')\n",
    "    plt.title(f'label: {label}')\n",
    "plt.tight_layout(rect=[0, 0.03, 1, 0.95])\n",
    "plt.suptitle('MNIST Predictions', fontsize=16)\n",
    "plt.show()"
   ]
  },
  {
   "cell_type": "code",
   "execution_count": null,
   "id": "fc4cf3b1",
   "metadata": {},
   "outputs": [
    {
     "name": "stdout",
     "output_type": "stream",
     "text": [
      "20250623031638\n"
     ]
    }
   ],
   "source": [
    "import datetime\n",
    "\n",
    "dt = datetime.datetime.now().strftime('%Y%m%d%H%M%S')\n",
    "print(dt)\n",
    "\n",
    "import os\n",
    "os.makedirs('results', exist_ok=True)\n",
    "\n",
    "torch.save(model.state_dict(), f'results/model_mnist_cnn_{dt}.pth')"
   ]
  },
  {
   "cell_type": "code",
   "execution_count": 56,
   "id": "1692a53c",
   "metadata": {},
   "outputs": [],
   "source": [
    "#model.load_state_dict(torch.load('results/model_mnist_cnn_20250621162737.pth'))"
   ]
  },
  {
   "cell_type": "markdown",
   "id": "ef7c5e1f",
   "metadata": {},
   "source": [
    "## Vizualizace"
   ]
  },
  {
   "cell_type": "markdown",
   "id": "82b74946",
   "metadata": {},
   "source": [
    "!pip install torchview"
   ]
  },
  {
   "cell_type": "code",
   "execution_count": null,
   "id": "7249f508",
   "metadata": {},
   "outputs": [],
   "source": [
    "from torchviz import make_dot\n",
    "import os\n",
    "os.environ[\"PATH\"] += os.pathsep + 'C:/Program Files/Graphviz/bin/'\n",
    "\n",
    "y_pred = model(X_train[0:1])  # Get predictions for the first training sample\n",
    "\n",
    "make_dot(y_pred, params=dict(list(model.named_parameters()))).render(\"cnn_torchviz\", format=\"png\")"
   ]
  },
  {
   "cell_type": "code",
   "execution_count": null,
   "id": "77acb70d",
   "metadata": {},
   "outputs": [],
   "source": [
    "import torchvision\n",
    "from torchview import draw_graph\n",
    "\n",
    "model_graph = draw_graph(model, input_size=(1,1,28,28), expand_nested=True, device=device)\n",
    "model_graph.visual_graph"
   ]
  },
  {
   "cell_type": "markdown",
   "id": "bbeb0718",
   "metadata": {},
   "source": [
    "### Váhy konvolučních vrstev"
   ]
  },
  {
   "cell_type": "code",
   "execution_count": null,
   "id": "b26c3d8d",
   "metadata": {},
   "outputs": [],
   "source": [
    "weight_list = []\n",
    "\n",
    "for m in model.modules():\n",
    "    if isinstance(m, nn.Conv2d):\n",
    "        print(m.weight.shape)\n",
    "        weight_list.append(m.weight)"
   ]
  },
  {
   "cell_type": "code",
   "execution_count": null,
   "id": "0140cf54",
   "metadata": {},
   "outputs": [],
   "source": [
    "cnv1_weights = weight_list[0]\n",
    "plt.figure(figsize=(8, 8))\n",
    "filter_count = np.minimum(cnv1_weights.shape[0], 4)\n",
    "for i in range(filter_count):\n",
    "    plt.subplot(filter_count, 1, i + 1)\n",
    "    plt.imshow(cnv1_weights[i].cpu().squeeze().detach().numpy(), cmap='gray')\n",
    "    plt.axis('off')\n",
    "    plt.title(f'Filter {i + 1}')\n",
    "plt.tight_layout()"
   ]
  },
  {
   "cell_type": "code",
   "execution_count": null,
   "id": "80221961",
   "metadata": {},
   "outputs": [],
   "source": [
    "cnv2_weights = weight_list[1]\n",
    "plt.figure(figsize=(12, 8))\n",
    "filter_count1 = np.minimum(cnv2_weights.shape[0], 4)\n",
    "filter_count2 = np.minimum(cnv2_weights.shape[1], 8)\n",
    "for i in range(filter_count1):\n",
    "    for j in range(filter_count2):\n",
    "        plt.subplot(filter_count1, filter_count2, i*filter_count2 + j + 1)\n",
    "        plt.imshow(cnv2_weights[i,j].cpu().squeeze().detach().numpy(), cmap='gray')\n",
    "        plt.axis('off')\n",
    "        plt.title(f'Filter ({i + 1}, {j + 1})')\n",
    "plt.tight_layout()"
   ]
  },
  {
   "cell_type": "markdown",
   "id": "9a1f8968",
   "metadata": {},
   "source": [
    "### Aktivační hodnoty v neuronech"
   ]
  },
  {
   "cell_type": "code",
   "execution_count": null,
   "id": "a6c19b96",
   "metadata": {},
   "outputs": [],
   "source": [
    "idx = 47 #58\n",
    "\n",
    "plt.figure(figsize=(3, 4))\n",
    "image = X_test[idx].cpu().squeeze().numpy()  # Remove channel dimension\n",
    "label = np.argmax(y_preds[idx].cpu().detach().numpy())\n",
    "plt.axis('off')\n",
    "plt.imshow(image, cmap = 'gray')\n",
    "plt.title(f'label: {label}')\n",
    "#plt.tight_layout(rect=[0, 0.03, 1, 0.95])\n",
    "plt.tight_layout()\n",
    "#plt.suptitle('MNIST Predictions', fontsize=16)\n",
    "plt.show()"
   ]
  },
  {
   "cell_type": "code",
   "execution_count": null,
   "id": "85e8a1c1",
   "metadata": {},
   "outputs": [],
   "source": [
    "conv2d_layers = [m for m in model.modules() if isinstance(m, nn.Conv2d)]\n",
    "\n",
    "activation = {}\n",
    "def get_activation(name):\n",
    "    def hook(model, input, output):\n",
    "        activation[name] = output.detach()\n",
    "    return hook\n",
    "\n",
    "conv2d_layers[0].register_forward_hook(get_activation('cnv1'))\n",
    "conv2d_layers[1].register_forward_hook(get_activation('cnv2'))\n",
    "\n",
    "y_pred = model(X_test[idx:idx+1].to(device))\n",
    "num_pred = torch.argmax(y_pred, dim=1).detach().cpu().numpy().item()\n",
    "print(f'Predicted label: {num_pred}, True label: {y_test[idx].argmax().item()}')\n",
    "\n",
    "print(activation['cnv1'].shape)\n",
    "print(activation['cnv2'].shape)"
   ]
  },
  {
   "cell_type": "code",
   "execution_count": null,
   "id": "f83c84cc",
   "metadata": {},
   "outputs": [],
   "source": [
    "plt.figure(figsize=(8, 3))\n",
    "filter_count = np.minimum(activation['cnv1'].shape[1], 4)\n",
    "for i in range(filter_count):\n",
    "    plt.subplot(1, filter_count, i + 1)\n",
    "    plt.imshow(activation['cnv1'][0, i].cpu().squeeze().numpy(), cmap='gray')\n",
    "    plt.axis('off')\n",
    "    plt.title(f'Filter {i + 1}')\n",
    "plt.tight_layout()\n",
    "plt.suptitle('Activation Maps for cnv2', fontsize=16);"
   ]
  },
  {
   "cell_type": "code",
   "execution_count": null,
   "id": "0a34fe67",
   "metadata": {},
   "outputs": [],
   "source": [
    "plt.figure(figsize=(16, 3))\n",
    "filter_count = np.minimum(activation['cnv2'].shape[1], 8)\n",
    "for i in range(filter_count):\n",
    "    plt.subplot(1, filter_count, i + 1)\n",
    "    plt.imshow(activation['cnv2'][0, i].cpu().squeeze().numpy(), cmap='gray')\n",
    "    plt.axis('off')\n",
    "    plt.title(f'Filter {i + 1}')\n",
    "plt.tight_layout()\n",
    "plt.suptitle('Activation Maps for cnv2', fontsize=16);"
   ]
  },
  {
   "cell_type": "markdown",
   "id": "309ab962",
   "metadata": {},
   "source": [
    "### "
   ]
  },
  {
   "cell_type": "markdown",
   "id": "1b1532d1",
   "metadata": {},
   "source": [
    "### Analýza aktivací pro jednotlivé číslice"
   ]
  },
  {
   "cell_type": "code",
   "execution_count": 66,
   "id": "17213e9a",
   "metadata": {},
   "outputs": [
    {
     "data": {
      "text/plain": [
       "(64, 28, 28)"
      ]
     },
     "execution_count": 66,
     "metadata": {},
     "output_type": "execute_result"
    }
   ],
   "source": [
    "activation['cnv1'].cpu().numpy().shape[1:]  # Get the shape of the activation map for cnv1"
   ]
  },
  {
   "cell_type": "code",
   "execution_count": 67,
   "id": "3a0edf7b",
   "metadata": {},
   "outputs": [],
   "source": [
    "activ_cnv1_stats = np.zeros((*activation['cnv1'].cpu().numpy().shape[1:], 10))  # (filters_shape, num_classes)\n",
    "activ_cnv2_stats = np.zeros((*activation['cnv2'].cpu().numpy().shape[1:], 10))  # (filters_shape, num_classes)\n",
    "\n",
    "for i in range(X_test.shape[0]):\n",
    "    y_pred = model(X_test[i:i+1].to(device))\n",
    "    num_pred = torch.argmax(y_pred, dim=1).detach().cpu().numpy().item()\n",
    "    if num_pred == y_test[i].argmax().item():\n",
    "        # Add to statistics\n",
    "        activ_cnv1_stats[:,:,:,num_pred] += activation['cnv1'].cpu().numpy().squeeze()\n",
    "        activ_cnv2_stats[:,:,:,num_pred] += activation['cnv2'].cpu().numpy().squeeze()\n",
    "        \n",
    "for i in range(num_classes):\n",
    "    activ_cnv1_stats[:,:,:,i] /= np.sum(y_test.cpu().numpy()[:, i])  # Normalize by the number of samples for each class\n",
    "    activ_cnv2_stats[:,:,:,i] /= np.sum(y_test.cpu().numpy()[:, i])  # Normalize by the number of samples for each class"
   ]
  },
  {
   "cell_type": "code",
   "execution_count": null,
   "id": "a8a7eb68",
   "metadata": {},
   "outputs": [],
   "source": [
    "activ_cnv1_stats.shape"
   ]
  },
  {
   "cell_type": "code",
   "execution_count": null,
   "id": "2fea49b0",
   "metadata": {},
   "outputs": [],
   "source": [
    "activ_cnv1_num = np.argmax(activ_cnv1_stats, axis=-1)  # Get the index of the maximum value along the last axis (num_classes)\n",
    "#print(activ_cnv1_num[1, :, :])\n",
    "\n",
    "import matplotlib\n",
    "\n",
    "cmap = plt.get_cmap('tab10', 10)  # Use a colormap with 10 distinct colors\n",
    "\n",
    "# define the bins and normalize\n",
    "bounds = np.arange(0, 11)-0.5\n",
    "norm = matplotlib.colors.BoundaryNorm(bounds, cmap.N)\n",
    "\n",
    "fig = plt.figure(figsize=(12, 4))\n",
    "filter_count = np.minimum(activ_cnv1_num.shape[0], 4)\n",
    "for i in range(filter_count):\n",
    "    plt.subplot(1, filter_count, i + 1)\n",
    "    im = plt.imshow(activ_cnv1_num[i], cmap=cmap, norm=norm)\n",
    "    plt.axis('off')\n",
    "    plt.title(f'Filter {i + 1}')\n",
    "cbar_ax = fig.add_axes([0.92, 0.2, 0.02, 0.65])\n",
    "fig.colorbar(im, cax=cbar_ax, ticks=np.arange(11))\n",
    "plt.suptitle('Most Activated Class for cnv1 Filters', fontsize=16)\n",
    "#plt.tight_layout(rect=[0, 0.03, 0.9, 0.95])\n",
    "plt.show()"
   ]
  },
  {
   "cell_type": "code",
   "execution_count": null,
   "id": "2471963d",
   "metadata": {},
   "outputs": [],
   "source": [
    "activ_cnv2_num = np.argmax(activ_cnv2_stats, axis=-1)  # Get the index of the maximum value along the last axis (num_classes)\n",
    "\n",
    "fig = plt.figure(figsize=(18, 5))\n",
    "filter_count = np.minimum(activ_cnv2_num.shape[0], 4)\n",
    "for i in range(filter_count):\n",
    "    plt.subplot(1, filter_count, i + 1)\n",
    "    im = plt.imshow(activ_cnv2_num[i], cmap=cmap, norm=norm)\n",
    "    plt.axis('off')\n",
    "    plt.title(f'Filter {i + 1}')\n",
    "cbar_ax = fig.add_axes([0.92, 0.2, 0.015, 0.65])\n",
    "fig.colorbar(im, cax=cbar_ax, ticks=np.arange(11))\n",
    "plt.suptitle('Most Activated Class for cnv2 Filters', fontsize=16)\n",
    "#plt.tight_layout(rect=[0, 0.03, 0.9, 0.95])\n",
    "plt.show()"
   ]
  },
  {
   "cell_type": "markdown",
   "id": "e02b2882",
   "metadata": {},
   "source": [
    "### Chybné klasifikace"
   ]
  },
  {
   "cell_type": "code",
   "execution_count": 71,
   "id": "f5f58eda",
   "metadata": {},
   "outputs": [
    {
     "data": {
      "text/plain": [
       "torch.Size([12000, 10])"
      ]
     },
     "execution_count": 71,
     "metadata": {},
     "output_type": "execute_result"
    }
   ],
   "source": [
    "y_test.shape"
   ]
  },
  {
   "cell_type": "code",
   "execution_count": 72,
   "id": "0c83d1ad",
   "metadata": {},
   "outputs": [],
   "source": [
    "def draw_output(idx_nums):\n",
    "    plt.figure(figsize = (20, 20))\n",
    "    plt.xticks( range(10) )\n",
    "    x = np.ceil(np.sqrt(len(idx_nums)))\n",
    "    cnt = 1\n",
    "    for ph in idx_nums:\n",
    "        plt.subplot(x, x, cnt)\n",
    "        curr_photo = y_test[ph]\n",
    "        \n",
    "        plt.xlim(0, 10)\n",
    "        plt.title(\"Digit: {0}\\n idx: {1} \".format(np.argmax(y_test[ph]), ph), fontsize = 10) \n",
    "        plt.bar(range(10), y_pred[ph])\n",
    "        \n",
    "        cnt += 1"
   ]
  },
  {
   "cell_type": "code",
   "execution_count": null,
   "id": "66f97a8e",
   "metadata": {},
   "outputs": [],
   "source": [
    "y_test_cpu = y_test.cpu().detach().numpy()\n",
    "y_pred = model(X_test.to(device))\n",
    "y_pred_cpu = y_pred.cpu().detach().numpy()\n",
    "\n",
    "idx_noteq = np.argmax(y_test_cpu, axis=1) != np.argmax(y_pred_cpu, axis=1)\n",
    "print(idx_noteq.sum(), \"samples are misclassified\")\n",
    "\n",
    "cnt_error = np.argmax(y_test_cpu[idx_noteq], axis=1)\n",
    "cnt_error = np.unique(cnt_error, return_counts = True)\n",
    "\n",
    "plt.figure(figsize = (15, 7))\n",
    "plt.title(\"Error distribution\", fontsize=20)\n",
    "plt.bar(cnt_error[0], cnt_error[1], color=plt.get_cmap('tab10').colors)\n",
    "plt.xticks(np.arange(10))\n",
    "plt.show()"
   ]
  },
  {
   "cell_type": "code",
   "execution_count": null,
   "id": "05abdfe4",
   "metadata": {},
   "outputs": [],
   "source": [
    "cnt_ind = 1\n",
    "list_idx = []\n",
    "fig = plt.figure(figsize=(8, 8))\n",
    "\n",
    "# Find indices of misclassified samples\n",
    "misclassified_indices = np.where(np.argmax(y_test_cpu, axis=1) != np.argmax(y_pred_cpu, axis=1))[0]\n",
    "\n",
    "# Randomly select 64 misclassified indices (or fewer if not enough)\n",
    "num_to_plot = np.minimum(36, len(misclassified_indices))\n",
    "#np.random.seed(42)\n",
    "selected_indices = np.random.choice(misclassified_indices, size=num_to_plot, replace=False)\n",
    "\n",
    "for i, idx in enumerate(selected_indices, 1):\n",
    "    plt.subplot(6, 6, i)\n",
    "    plt.imshow(X_test[idx, 0, :, :].cpu().numpy(), cmap='gray', interpolation='none')\n",
    "    true_label = np.argmax(y_test_cpu[idx])\n",
    "    pred_label = np.argmax(y_pred_cpu[idx])\n",
    "    plt.title(f'True:{true_label}, Predicted:{pred_label}\\nidx={idx}', fontsize=8)\n",
    "    plt.axis('off')\n",
    "plt.suptitle('Selected Misclassified Samples', fontsize=16)\n",
    "plt.tight_layout()"
   ]
  },
  {
   "cell_type": "markdown",
   "id": "1c151d70",
   "metadata": {},
   "source": [
    "## Zdroje"
   ]
  },
  {
   "cell_type": "markdown",
   "id": "c935fb9a",
   "metadata": {},
   "source": [
    "https://www.kaggle.com/code/jedrzejdudzicz/mnist-dataset-100-accuracy"
   ]
  }
 ],
 "metadata": {
  "kernelspec": {
   "display_name": ".venv",
   "language": "python",
   "name": "python3"
  },
  "language_info": {
   "codemirror_mode": {
    "name": "ipython",
    "version": 3
   },
   "file_extension": ".py",
   "mimetype": "text/x-python",
   "name": "python",
   "nbconvert_exporter": "python",
   "pygments_lexer": "ipython3",
   "version": "3.10.7"
  }
 },
 "nbformat": 4,
 "nbformat_minor": 5
}
