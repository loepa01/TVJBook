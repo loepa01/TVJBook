{
 "cells": [
  {
   "cell_type": "markdown",
   "metadata": {},
   "source": [
    "# 2. Small-scale ChatGPT - generování textu pomocí neuronových sítí"
   ]
  },
  {
   "cell_type": "markdown",
   "metadata": {},
   "source": [
    "## Úkoly\n",
    "1. Seznámení s datasety - jména ČR (můž, žena, neutrál), různé státy\n",
    "2. Vykreslit histogram délek jmen\n",
    "3. Konstrukce tří-vrstvého perceptronu - vyzkoušení generování slov\n",
    "4. Konstrukce rekureního modelu - potřeba k zahrnutí vzájemných závislostí prvků sekvence\n",
    "    - vyzkoušet: různé aktivační funkce, learning rate, počet rekurentních bloků, počet skrytých neuronů\n",
    "5. Přidání teploty - ovlivnění výstupu, jak moc si NN vymýšlí\n",
    "6. Přidání prvního znaku - NN bude generovat sama i první znak jména\n",
    "7. Cíl: Rozumně vypadající vygenerovaná jména.\n",
    "\n",
    "Bonusy:\n",
    "1. Jiný dataset - CZ jména, jiná národnost, pouze muž/žena\n",
    "2. LSTM, GRU ?"
   ]
  },
  {
   "cell_type": "code",
   "execution_count": 1,
   "metadata": {
    "collapsed": false
   },
   "outputs": [],
   "source": [
    "# For tips on running notebooks in Google Colab, see\n",
    "# https://pytorch.org/tutorials/beginner/colab\n",
    "%matplotlib inline"
   ]
  },
  {
   "cell_type": "markdown",
   "metadata": {},
   "source": [
    "!pip install -r requirements.txt"
   ]
  },
  {
   "cell_type": "code",
   "execution_count": 2,
   "metadata": {},
   "outputs": [],
   "source": [
    "import matplotlib.pyplot as plt\n",
    "import numpy as np\n",
    "import torch"
   ]
  },
  {
   "cell_type": "code",
   "execution_count": 3,
   "metadata": {},
   "outputs": [
    {
     "data": {
      "text/plain": [
       "'cpu'"
      ]
     },
     "execution_count": 3,
     "metadata": {},
     "output_type": "execute_result"
    }
   ],
   "source": [
    "# Make device agnostic code\n",
    "device = \"cuda\" if torch.cuda.is_available() else \"cpu\"\n",
    "device"
   ]
  },
  {
   "cell_type": "code",
   "execution_count": 4,
   "metadata": {},
   "outputs": [],
   "source": [
    "device = 'cpu'  # Force CPU for this example"
   ]
  },
  {
   "cell_type": "code",
   "execution_count": 5,
   "metadata": {},
   "outputs": [
    {
     "data": {
      "text/plain": [
       "device(type='cpu')"
      ]
     },
     "execution_count": 5,
     "metadata": {},
     "output_type": "execute_result"
    }
   ],
   "source": [
    "torch.device(device)"
   ]
  },
  {
   "cell_type": "markdown",
   "metadata": {},
   "source": [
    "## Příprava dat I\n",
    "\n",
    "Databáze evropských jmen a příjmení: https://data.europa.eu/data/datasets/5bc35259634f41122d982759?locale=cs\n",
    "\n",
    "* Složka: /datasets/Seznam křestních jmen a příjmení\n",
    "\n",
    "Databáze českých jmen: https://mv.gov.cz/clanek/seznam-rodove-neutralnich-jmen.aspx\n",
    "\n",
    "* Složka /datasets/SeznamJmenCR"
   ]
  },
  {
   "cell_type": "code",
   "execution_count": 6,
   "metadata": {},
   "outputs": [],
   "source": [
    "import glob\n",
    "import pandas as pd"
   ]
  },
  {
   "cell_type": "code",
   "execution_count": 7,
   "metadata": {},
   "outputs": [
    {
     "data": {
      "text/plain": [
       "(11331,)"
      ]
     },
     "execution_count": 7,
     "metadata": {},
     "output_type": "execute_result"
    }
   ],
   "source": [
    "dfs = pd.read_csv('datasets/SeznamJmenCR/OpenData_-_Seznam_jmen_k_2025-05-31.csv', encoding='utf-8')\n",
    "jmena_typ = dfs.iloc[:, 0]\n",
    "jmena_all = dfs.iloc[:, 1]\n",
    "jmena_all.shape"
   ]
  },
  {
   "cell_type": "code",
   "execution_count": null,
   "metadata": {},
   "outputs": [
    {
     "data": {
      "text/plain": [
       "array(['AALIYAH', 'AAMU', 'AARIFA', ..., 'ŽIVANA', 'ŽOFIA', 'ŽOFIE'],\n",
       "      shape=(3950,), dtype=object)"
      ]
     },
     "execution_count": 19,
     "metadata": {},
     "output_type": "execute_result"
    }
   ],
   "source": [
    "jmena_all = jmena_all[jmena_typ == 'ZENA']"
   ]
  },
  {
   "cell_type": "code",
   "execution_count": 9,
   "metadata": {},
   "outputs": [
    {
     "data": {
      "text/plain": [
       "((11172,), (11172,))"
      ]
     },
     "execution_count": 9,
     "metadata": {},
     "output_type": "execute_result"
    }
   ],
   "source": [
    "jmena_all, idx = np.unique(jmena_all, return_index=True)\n",
    "jmena_typ = jmena_typ[idx]\n",
    "jmena_all.shape, jmena_typ.shape"
   ]
  },
  {
   "cell_type": "code",
   "execution_count": 10,
   "metadata": {},
   "outputs": [
    {
     "data": {
      "text/plain": [
       "array(['AADAR', 'AAGTE', 'AAI', 'AAIKE', 'AAJARAQ', 'AAJU', 'AAJUNNGUAQ',\n",
       "       'AAKA', 'AAKKULUK', 'AAL', 'AALIYAH'], dtype=object)"
      ]
     },
     "execution_count": 10,
     "metadata": {},
     "output_type": "execute_result"
    }
   ],
   "source": [
    "jmena_all[:11]  # every 150th name"
   ]
  },
  {
   "cell_type": "markdown",
   "metadata": {},
   "source": [
    "Vyčištění speciálních znaků"
   ]
  },
  {
   "cell_type": "code",
   "execution_count": 11,
   "metadata": {},
   "outputs": [
    {
     "data": {
      "text/plain": [
       "11172"
      ]
     },
     "execution_count": 11,
     "metadata": {},
     "output_type": "execute_result"
    }
   ],
   "source": [
    "import string\n",
    "\n",
    "jmena_all2 = []\n",
    "\n",
    "# Set vocab to all utf-8 printable characters\n",
    "vocab = list('`1234567890-=[];\\',./*-+.~!@#$%^&*()_+{}:\"|<>?')\n",
    "\n",
    "names_length = []\n",
    "\n",
    "for jmeno in jmena_all:\n",
    "    cleaned = ''.join([ch for ch in str(jmeno) if ch not in vocab])\n",
    "    first_seq = cleaned.split()[0] if cleaned.split() else ''\n",
    "    first_seq = first_seq.lower()\n",
    "    first_seq = first_seq[0].upper() + first_seq[1:]\n",
    "    jmena_all2.append(first_seq)\n",
    "    names_length.append(len(first_seq))\n",
    "    \n",
    "jmena_all2 = np.array(jmena_all2)\n",
    "jmena_typ = np.array(jmena_typ)\n",
    "len(jmena_all2)"
   ]
  },
  {
   "cell_type": "code",
   "execution_count": 17,
   "metadata": {},
   "outputs": [
    {
     "data": {
      "text/plain": [
       "([<matplotlib.axis.XTick at 0x1a0d0a25c90>,\n",
       "  <matplotlib.axis.XTick at 0x1a0d0a25300>,\n",
       "  <matplotlib.axis.XTick at 0x1a0d0a6c6d0>,\n",
       "  <matplotlib.axis.XTick at 0x1a0d0a6d3c0>,\n",
       "  <matplotlib.axis.XTick at 0x1a0d0a6e0b0>,\n",
       "  <matplotlib.axis.XTick at 0x1a0d08030a0>,\n",
       "  <matplotlib.axis.XTick at 0x1a0d0a6efe0>,\n",
       "  <matplotlib.axis.XTick at 0x1a0d0a6fcd0>,\n",
       "  <matplotlib.axis.XTick at 0x1a0d0ad8a00>,\n",
       "  <matplotlib.axis.XTick at 0x1a0d0ad96f0>,\n",
       "  <matplotlib.axis.XTick at 0x1a0d0ad8670>,\n",
       "  <matplotlib.axis.XTick at 0x1a0d0ada590>,\n",
       "  <matplotlib.axis.XTick at 0x1a0d0adb280>,\n",
       "  <matplotlib.axis.XTick at 0x1a0d0adbf70>,\n",
       "  <matplotlib.axis.XTick at 0x1a0d0ada200>,\n",
       "  <matplotlib.axis.XTick at 0x1a0d0ac8c10>,\n",
       "  <matplotlib.axis.XTick at 0x1a0d0ac9900>,\n",
       "  <matplotlib.axis.XTick at 0x1a0d0aca5f0>,\n",
       "  <matplotlib.axis.XTick at 0x1a0d0a6e650>,\n",
       "  <matplotlib.axis.XTick at 0x1a0d0acb520>],\n",
       " [Text(0, 0, '0'),\n",
       "  Text(1, 0, '1'),\n",
       "  Text(2, 0, '2'),\n",
       "  Text(3, 0, '3'),\n",
       "  Text(4, 0, '4'),\n",
       "  Text(5, 0, '5'),\n",
       "  Text(6, 0, '6'),\n",
       "  Text(7, 0, '7'),\n",
       "  Text(8, 0, '8'),\n",
       "  Text(9, 0, '9'),\n",
       "  Text(10, 0, '10'),\n",
       "  Text(11, 0, '11'),\n",
       "  Text(12, 0, '12'),\n",
       "  Text(13, 0, '13'),\n",
       "  Text(14, 0, '14'),\n",
       "  Text(15, 0, '15'),\n",
       "  Text(16, 0, '16'),\n",
       "  Text(17, 0, '17'),\n",
       "  Text(18, 0, '18'),\n",
       "  Text(19, 0, '19')])"
      ]
     },
     "execution_count": 17,
     "metadata": {},
     "output_type": "execute_result"
    },
    {
     "data": {
      "image/png": "[encoded data removed]",
      "text/plain": [
       "<Figure size 640x480 with 1 Axes>"
      ]
     },
     "metadata": {},
     "output_type": "display_data"
    }
   ],
   "source": [
    "# DOPLNIT: histogram (krok 2)\n",
    "plt.hist(names_length, bins=20)\n",
    "plt.xticks(np.arange(20))"
   ]
  },
  {
   "cell_type": "code",
   "execution_count": 53,
   "metadata": {},
   "outputs": [
    {
     "data": {
      "text/plain": [
       "((11153,), (11153,))"
      ]
     },
     "execution_count": 53,
     "metadata": {},
     "output_type": "execute_result"
    }
   ],
   "source": [
    "jmena_all2, idx = np.unique(jmena_all2, return_index=True)\n",
    "jmena_typ2 = jmena_typ[idx]\n",
    "jmena_all2.shape, jmena_typ2.shape"
   ]
  },
  {
   "cell_type": "code",
   "execution_count": 54,
   "metadata": {},
   "outputs": [
    {
     "name": "stdout",
     "output_type": "stream",
     "text": [
      "[]\n"
     ]
    }
   ],
   "source": [
    "positions = np.where(jmena_all2 == 'JAN **')[0]\n",
    "print(positions)"
   ]
  },
  {
   "cell_type": "markdown",
   "metadata": {},
   "source": [
    "EOS = '\\n', START = '$'\n",
    "\n",
    "<img src=\"../images/names.png\" alt=\"Rekurentní neuronová síť\" width=\"800\"/>"
   ]
  },
  {
   "cell_type": "code",
   "execution_count": null,
   "metadata": {},
   "outputs": [],
   "source": [
    "# The unique characters in the file\n",
    "vocab = np.array(sorted(set(''.join(jmena_all2))))\n",
    "\n",
    "# insert special starting character\n",
    "#vocab = np.append(vocab,'$')\n",
    "\n",
    "print(f'{len(vocab)} unique characters')\n",
    "print(vocab)"
   ]
  },
  {
   "cell_type": "markdown",
   "metadata": {},
   "source": [
    "Příprava na zpracování"
   ]
  },
  {
   "cell_type": "code",
   "execution_count": null,
   "metadata": {},
   "outputs": [],
   "source": [
    "all_letters = ''.join(vocab)\n",
    "n_letters = len(all_letters) + 1 # Plus EOS marker\n",
    "all_letters"
   ]
  },
  {
   "cell_type": "code",
   "execution_count": null,
   "metadata": {},
   "outputs": [],
   "source": [
    "names_all = jmena_all2\n",
    "names_all.shape, names_all[::180]"
   ]
  },
  {
   "cell_type": "code",
   "execution_count": null,
   "metadata": {},
   "outputs": [],
   "source": []
  },
  {
   "cell_type": "markdown",
   "metadata": {},
   "source": [
    "## Příprava dat II\n",
    "\n",
    "Databáze jmen z různých států: https://docs.pytorch.org/tutorials/intermediate/char_rnn_classification_tutorial.html"
   ]
  },
  {
   "cell_type": "code",
   "execution_count": null,
   "metadata": {
    "collapsed": false
   },
   "outputs": [],
   "source": [
    "from io import open\n",
    "import glob\n",
    "import os\n",
    "import unicodedata\n",
    "import string\n",
    "import numpy as np\n",
    "\n",
    "all_letters = string.ascii_letters + \" .,;'-\"\n",
    "n_letters = len(all_letters) + 1 # Plus EOS marker\n",
    "\n",
    "def findFiles(path): return glob.glob(path)\n",
    "\n",
    "# Turn a Unicode string to plain ASCII, thanks to https://stackoverflow.com/a/518232/2809427\n",
    "def unicodeToAscii(s):\n",
    "    return ''.join(\n",
    "        c for c in unicodedata.normalize('NFD', s)\n",
    "        if unicodedata.category(c) != 'Mn'\n",
    "        and c in all_letters\n",
    "    )\n",
    "\n",
    "# Read a file and split into lines\n",
    "def readLines(filename):\n",
    "    with open(filename, encoding='utf-8') as some_file:\n",
    "        return [unicodeToAscii(line.strip()) for line in some_file]\n",
    "\n",
    "# Build the category_lines dictionary, a list of lines per category\n",
    "category_lines = {}\n",
    "all_categories = []\n",
    "names_all = []\n",
    "names_length = []\n",
    "for filename in findFiles('data/names/*.txt'):\n",
    "    category = os.path.splitext(os.path.basename(filename))[0]\n",
    "    all_categories.append(category)\n",
    "    lines = readLines(filename)\n",
    "    category_lines[category] = lines\n",
    "    names_all = np.concatenate([names_all, lines])\n",
    "    for l in lines:\n",
    "        names_length.append(len(l))\n",
    "\n",
    "n_categories = len(all_categories)\n",
    "\n",
    "print(f'Total names count: {len(names_all)}')\n",
    "\n",
    "if n_categories == 0:\n",
    "    raise RuntimeError('Data not found. Make sure that you downloaded data '\n",
    "        'from https://download.pytorch.org/tutorial/data.zip and extract it to '\n",
    "        'the current directory.')\n",
    "\n",
    "print('# categories:', n_categories, all_categories)\n",
    "print(unicodeToAscii(\"O'Néàl\"))"
   ]
  },
  {
   "cell_type": "code",
   "execution_count": null,
   "metadata": {},
   "outputs": [],
   "source": [
    "# DOPLNIT: histogram (krok 2)"
   ]
  },
  {
   "cell_type": "code",
   "execution_count": null,
   "metadata": {},
   "outputs": [],
   "source": [
    "all_letters"
   ]
  },
  {
   "cell_type": "markdown",
   "metadata": {},
   "source": [
    "## Konstrukce neuronové sítě"
   ]
  },
  {
   "cell_type": "markdown",
   "metadata": {},
   "source": [
    "Návod: https://docs.pytorch.org/tutorials/beginner/introyt/modelsyt_tutorial.html"
   ]
  },
  {
   "cell_type": "code",
   "execution_count": null,
   "metadata": {
    "collapsed": false
   },
   "outputs": [],
   "source": [
    "import torch\n",
    "import torch.nn as nn\n",
    "\n",
    "class RNN(nn.Module):\n",
    "    def __init__(self, input_size, hidden_size, output_size):\n",
    "        super(RNN, self).__init__()\n",
    "        self.hidden_size = hidden_size\n",
    "\n",
    "        # DOPLNIT: inicializace vrstev\n",
    "\n",
    "    def forward(self, input, temperature = 1):\n",
    "        \n",
    "        # DOPLNIT: struktura RNN\n",
    "        \n",
    "        return output, self.hidden\n",
    "\n",
    "    def initHidden(self):\n",
    "        self.hidden = torch.zeros(1, self.hidden_size).to(device)\n",
    "        \n",
    "\n",
    "learning_rate = ?\n",
    "n_hidden = ?  # počet skrytých neuronů\n",
    "\n",
    "rnn = RNN(n_letters, n_hidden, n_letters).to(device)\n",
    "print(rnn)"
   ]
  },
  {
   "cell_type": "code",
   "execution_count": null,
   "metadata": {},
   "outputs": [],
   "source": [
    "from torchsummary import summary\n",
    "\n",
    "rnn.initHidden()\n",
    "summary(rnn, input_size=(1,n_letters), device=device)"
   ]
  },
  {
   "cell_type": "markdown",
   "metadata": {},
   "source": [
    "## Formátování textu\n",
    "* Převedení na *one-hot* reprezentaci"
   ]
  },
  {
   "cell_type": "markdown",
   "metadata": {},
   "source": [
    "For each timestep (that is, for each letter in a training word) the\n",
    "inputs of the network will be `(category, current letter, hidden state)`\n",
    "and the outputs will be `(next letter, next hidden state)`. So for each\n",
    "training set, we\\'ll need the category, a set of input letters, and a\n",
    "set of output/target letters.\n",
    "\n",
    "Since we are predicting the next letter from the current letter for each\n",
    "timestep, the letter pairs are groups of consecutive letters from the\n",
    "line - e.g. for `\"ABCD<EOS>\"` we would create (\\\"A\\\", \\\"B\\\"), (\\\"B\\\",\n",
    "\\\"C\\\"), (\\\"C\\\", \\\"D\\\"), (\\\"D\\\", \\\"EOS\\\").\n",
    "\n",
    "![](https://i.imgur.com/JH58tXY.png)\n",
    "\n",
    "The category tensor is a [one-hot\n",
    "tensor](https://en.wikipedia.org/wiki/One-hot) of size\n",
    "`<1 x n_categories>`. When training we feed it to the network at every\n",
    "timestep - this is a design choice, it could have been included as part\n",
    "of initial hidden state or some other strategy.\n"
   ]
  },
  {
   "cell_type": "markdown",
   "metadata": {},
   "source": [
    "### Zpracování textu na tokeny"
   ]
  },
  {
   "cell_type": "code",
   "execution_count": 60,
   "metadata": {
    "collapsed": false
   },
   "outputs": [],
   "source": [
    "# One-hot matrix of first to last letters (not including EOS) for input\n",
    "def inputTensor(line, n_letters):\n",
    "    tensor = torch.zeros(len(line), 1, n_letters)\n",
    "    for li in range(len(line)):\n",
    "        letter = line[li]\n",
    "        tensor[li][0][all_letters.find(letter)] = 1\n",
    "    return tensor\n",
    "\n",
    "# ``LongTensor`` of second letter to end (EOS) for target\n",
    "def targetTensor(line, n_letters):\n",
    "    letter_indexes = [all_letters.find(line[li]) for li in range(1, len(line))]\n",
    "    letter_indexes.append(n_letters - 1) # EOS\n",
    "    return torch.LongTensor(letter_indexes)"
   ]
  },
  {
   "cell_type": "code",
   "execution_count": null,
   "metadata": {},
   "outputs": [],
   "source": [
    "all_letters"
   ]
  },
  {
   "cell_type": "markdown",
   "metadata": {},
   "source": [
    "For convenience during training we\\'ll make a `randomTrainingExample`\n",
    "function that fetches a random (category, line) pair and turns them into\n",
    "the required (category, input, target) tensors.\n"
   ]
  },
  {
   "cell_type": "code",
   "execution_count": 62,
   "metadata": {
    "collapsed": false
   },
   "outputs": [],
   "source": [
    "import random\n",
    "\n",
    "# Random item from a list\n",
    "def randomChoice(l):\n",
    "    return l[random.randint(0, len(l) - 1)]\n",
    "\n",
    "# Make category, input, and target tensors from a random category, line pair\n",
    "def randomTrainingExample(samples_all, n_letters):\n",
    "    sample = randomChoice(samples_all)\n",
    "    input_line_tensor = inputTensor(sample, n_letters)\n",
    "    target_line_tensor = targetTensor(sample, n_letters)\n",
    "    return input_line_tensor, target_line_tensor"
   ]
  },
  {
   "cell_type": "markdown",
   "metadata": {},
   "source": [
    "## Trénování neuronové sítě"
   ]
  },
  {
   "cell_type": "code",
   "execution_count": null,
   "metadata": {
    "collapsed": false
   },
   "outputs": [],
   "source": [
    "criterion = nn.NLLLoss().to(device)\n",
    "\n",
    "def train(input_line_tensor, target_line_tensor):\n",
    "    target_line_tensor = target_line_tensor.unsqueeze_(-1).to(device)\n",
    "    rnn.initHidden()\n",
    "\n",
    "    rnn.zero_grad()\n",
    "\n",
    "    loss = torch.Tensor([0]).to(device) # you can also just simply use ``loss = 0``\n",
    "\n",
    "    for i in range(input_line_tensor.size(0)):\n",
    "        output, _ = rnn(input_line_tensor[i].to(device))\n",
    "        l = criterion(output, target_line_tensor[i])\n",
    "        loss += l\n",
    "\n",
    "    loss.backward()\n",
    "\n",
    "    for p in rnn.parameters():\n",
    "        p.data.add_(p.grad.data, alpha=-learning_rate)\n",
    "\n",
    "    return output, loss.item() / input_line_tensor.size(0)"
   ]
  },
  {
   "cell_type": "markdown",
   "metadata": {},
   "source": [
    "To keep track of how long training takes I am adding a\n",
    "`timeSince(timestamp)` function which returns a human readable string:\n"
   ]
  },
  {
   "cell_type": "code",
   "execution_count": 64,
   "metadata": {
    "collapsed": false
   },
   "outputs": [],
   "source": [
    "import time\n",
    "import math\n",
    "\n",
    "def timeSince(since):\n",
    "    now = time.time()\n",
    "    s = now - since\n",
    "    m = math.floor(s / 60)\n",
    "    s -= m * 60\n",
    "    return '%dm %ds' % (m, s)"
   ]
  },
  {
   "cell_type": "markdown",
   "metadata": {},
   "source": [
    "Training is business as usual - call train a bunch of times and wait a\n",
    "few minutes, printing the current time and loss every `print_every`\n",
    "examples, and keeping store of an average loss per `plot_every` examples\n",
    "in `all_losses` for plotting later.\n"
   ]
  },
  {
   "cell_type": "code",
   "execution_count": null,
   "metadata": {
    "collapsed": false
   },
   "outputs": [],
   "source": [
    "rnn = RNN(n_letters, n_hidden, n_letters).to(device)\n",
    "\n",
    "n_iters = ?\n",
    "print_every = ?\n",
    "plot_every = 500\n",
    "all_losses = []\n",
    "total_loss = 0 # Reset every ``plot_every`` ``iters``\n",
    "total_loss2 = 0 # Reset every ``print_every`` ``iters``\n",
    "\n",
    "start = time.time()\n",
    "\n",
    "for iter in range(1, n_iters + 1):\n",
    "    output, loss = train(*randomTrainingExample(names_all, n_letters))\n",
    "    total_loss += loss\n",
    "    total_loss2 += loss\n",
    "\n",
    "    if iter % print_every == 0:\n",
    "        print('%s (%d %d%%) %.4f' % (timeSince(start), iter, iter / n_iters * 100, total_loss2 / print_every))\n",
    "        total_loss2 = 0\n",
    "\n",
    "    if iter % plot_every == 0:\n",
    "        all_losses.append(total_loss / plot_every)\n",
    "        total_loss = 0"
   ]
  },
  {
   "cell_type": "markdown",
   "metadata": {},
   "source": [
    "Plotting the Losses\n",
    "===================\n",
    "\n",
    "Plotting the historical loss from all\\_losses shows the network\n",
    "learning:\n"
   ]
  },
  {
   "cell_type": "code",
   "execution_count": 66,
   "metadata": {
    "collapsed": false
   },
   "outputs": [
    {
     "data": {
      "image/png": "[encoded data removed]",
      "text/plain": [
       "<Figure size 640x480 with 1 Axes>"
      ]
     },
     "metadata": {},
     "output_type": "display_data"
    }
   ],
   "source": [
    "import matplotlib.pyplot as plt\n",
    "\n",
    "plt.figure()\n",
    "plt.plot(all_losses);"
   ]
  },
  {
   "cell_type": "code",
   "execution_count": null,
   "metadata": {},
   "outputs": [],
   "source": [
    "import datetime\n",
    "\n",
    "dt = datetime.datetime.now().strftime('%Y%m%d%H%M%S')\n",
    "print(dt)\n",
    "\n",
    "import os\n",
    "os.makedirs('results', exist_ok=True)\n",
    "\n",
    "torch.save(rnn.state_dict(), f'results/model2_jmena_rnn_{dt}.pth')"
   ]
  },
  {
   "cell_type": "code",
   "execution_count": null,
   "metadata": {},
   "outputs": [],
   "source": [
    "rnn = RNN(n_letters, n_hidden, n_letters).to(device)\n",
    "\n",
    "rnn.load_state_dict(torch.load('results/model2_jmena_rnn_20250623032853.pth'))"
   ]
  },
  {
   "cell_type": "markdown",
   "metadata": {},
   "source": [
    "## Vzorkování natrénováné RNN\n",
    "\n",
    "To sample we give the network a letter and ask what the next one is,\n",
    "feed that in as the next letter, and repeat until the EOS token.\n",
    "\n",
    "-   Create tensors for input category, starting letter, and empty hidden\n",
    "    state\n",
    "-   Create a string `output_name` with the starting letter\n",
    "-   Up to a maximum output length,\n",
    "    -   Feed the current letter to the network\n",
    "    -   Get the next letter from highest output, and next hidden state\n",
    "    -   If the letter is EOS, stop here\n",
    "    -   If a regular letter, add to `output_name` and continue\n",
    "-   Return the final name\n",
    "\n"
   ]
  },
  {
   "cell_type": "code",
   "execution_count": null,
   "metadata": {
    "collapsed": false
   },
   "outputs": [],
   "source": [
    "max_length = 20\n",
    "\n",
    "# Sample from a category and starting letter\n",
    "def sample(start_letter='A', temperature=1):\n",
    "    with torch.no_grad():  # no need to track history in sampling\n",
    "        input = inputTensor(start_letter, n_letters)\n",
    "        rnn.initHidden()\n",
    "\n",
    "        output_name = start_letter\n",
    "\n",
    "        for i in range(max_length):\n",
    "            #print(torch.exp(output.squeeze()))\n",
    "            \n",
    "            if temperature != 'max':  # sample from distribution\n",
    "                output, _ = rnn(input[0].to(device), temperature=temperature)\n",
    "                \n",
    "                a = torch.arange(n_letters).to(device)\n",
    "                p = torch.exp(output.squeeze())  # temperature\n",
    "                index = p.multinomial(num_samples=1, replacement=True)\n",
    "                topi = a[index]\n",
    "            else:  # max\n",
    "                output, _ = rnn(input[0].to(device), temperature=1)\n",
    "                topv, topi = output.topk(1)\n",
    "                topi = topi[0][0]\n",
    "                \n",
    "            if topi == n_letters - 1:\n",
    "                break\n",
    "            else:\n",
    "                letter = all_letters[topi]\n",
    "                output_name += letter\n",
    "            input = inputTensor(letter, n_letters)\n",
    "\n",
    "        return output_name\n",
    "\n",
    "# Get multiple samples from one category and multiple starting letters\n",
    "def samples(start_letters='ABC', temperature=1):\n",
    "    for start_letter in start_letters:\n",
    "        sample_name = sample(start_letter, temperature)\n",
    "        txt = ' '*(22-len(sample_name))\n",
    "        print(f'{sample_name}{txt}| je v datasetu: ', sample_name in names_all)\n",
    "\n",
    "#samples('ADJLHOLAD', temperature = 'max')\n",
    "samples('ADJLHOLAD', temperature = 0.3)"
   ]
  },
  {
   "cell_type": "markdown",
   "metadata": {},
   "source": [
    "## Vizualizace"
   ]
  },
  {
   "cell_type": "markdown",
   "metadata": {},
   "source": [
    "!pip install torchview"
   ]
  },
  {
   "cell_type": "code",
   "execution_count": 99,
   "metadata": {},
   "outputs": [
    {
     "data": {
      "text/plain": [
       "'rnn_torchviz.png'"
      ]
     },
     "execution_count": 99,
     "metadata": {},
     "output_type": "execute_result"
    }
   ],
   "source": [
    "from torchviz import make_dot\n",
    "import os\n",
    "os.environ[\"PATH\"] += os.pathsep + 'C:/Program Files/Graphviz/bin/'\n",
    "\n",
    "y_pred = rnn(inputTensor('A', n_letters)[0].to(device))  # Get predictions for the first training sample\n",
    "\n",
    "make_dot(y_pred, params=dict(list(rnn.named_parameters()))).render(\"rnn_torchviz\", format=\"png\")"
   ]
  },
  {
   "cell_type": "code",
   "execution_count": 104,
   "metadata": {},
   "outputs": [
    {
     "data": {
      "image/svg+xml": [
       "<?xml version=\"1.0\" encoding=\"UTF-8\" standalone=\"no\"?>\n",
       "<!DOCTYPE svg PUBLIC \"-//W3C//DTD SVG 1.1//EN\"\n",
       " \"http://www.w3.org/Graphics/SVG/1.1/DTD/svg11.dtd\">\n",
       "<!-- Generated by graphviz version 2.42.4 (0)\n",
       " -->\n",
       "<!-- Title: model Pages: 1 -->\n",
       "<svg width=\"181pt\" height=\"576pt\"\n",
       " viewBox=\"0.00 0.00 181.00 576.00\" xmlns=\"http://www.w3.org/2000/svg\" xmlns:xlink=\"http://www.w3.org/1999/xlink\">\n",
       "<g id=\"graph0\" class=\"graph\" transform=\"scale(1 1) rotate(0) translate(4 572)\">\n",
       "<title>model</title>\n",
       "<polygon fill=\"white\" stroke=\"transparent\" points=\"-4,4 -4,-572 177,-572 177,4 -4,4\"/>\n",
       "<!-- 0 -->\n",
       "<g id=\"node1\" class=\"node\">\n",
       "<title>0</title>\n",
       "<polygon fill=\"lightyellow\" stroke=\"transparent\" points=\"149.5,-568 23.5,-568 23.5,-536 149.5,-536 149.5,-568\"/>\n",
       "<polygon fill=\"none\" stroke=\"black\" points=\"23.5,-536 23.5,-568 91.5,-568 91.5,-536 23.5,-536\"/>\n",
       "<text text-anchor=\"start\" x=\"28.5\" y=\"-555\" font-family=\"Linux libertine\" font-size=\"10.00\">input&#45;tensor</text>\n",
       "<text text-anchor=\"start\" x=\"39\" y=\"-544\" font-family=\"Linux libertine\" font-size=\"10.00\">depth:0</text>\n",
       "<polygon fill=\"none\" stroke=\"black\" points=\"91.5,-536 91.5,-568 149.5,-568 149.5,-536 91.5,-536\"/>\n",
       "<text text-anchor=\"start\" x=\"96.5\" y=\"-549.5\" font-family=\"Linux libertine\" font-size=\"10.00\">(128, 103)</text>\n",
       "</g>\n",
       "<!-- 1 -->\n",
       "<g id=\"node2\" class=\"node\">\n",
       "<title>1</title>\n",
       "<polygon fill=\"#c1ffc1\" stroke=\"transparent\" points=\"163.5,-500 9.5,-500 9.5,-458 163.5,-458 163.5,-500\"/>\n",
       "<polygon fill=\"none\" stroke=\"black\" points=\"9.5,-458 9.5,-500 56.5,-500 56.5,-458 9.5,-458\"/>\n",
       "<text text-anchor=\"start\" x=\"18\" y=\"-482\" font-family=\"Linux libertine\" font-size=\"10.00\">Linear</text>\n",
       "<text text-anchor=\"start\" x=\"14.5\" y=\"-471\" font-family=\"Linux libertine\" font-size=\"10.00\">depth:1</text>\n",
       "<polygon fill=\"none\" stroke=\"black\" points=\"56.5,-479 56.5,-500 103.5,-500 103.5,-479 56.5,-479\"/>\n",
       "<text text-anchor=\"start\" x=\"66\" y=\"-487\" font-family=\"Linux libertine\" font-size=\"10.00\">input:</text>\n",
       "<polygon fill=\"none\" stroke=\"black\" points=\"103.5,-479 103.5,-500 163.5,-500 163.5,-479 103.5,-479\"/>\n",
       "<text text-anchor=\"start\" x=\"108.5\" y=\"-487\" font-family=\"Linux libertine\" font-size=\"10.00\">(128, 103) </text>\n",
       "<polygon fill=\"none\" stroke=\"black\" points=\"56.5,-458 56.5,-479 103.5,-479 103.5,-458 56.5,-458\"/>\n",
       "<text text-anchor=\"start\" x=\"61.5\" y=\"-466\" font-family=\"Linux libertine\" font-size=\"10.00\">output: </text>\n",
       "<polygon fill=\"none\" stroke=\"black\" points=\"103.5,-458 103.5,-479 163.5,-479 163.5,-458 103.5,-458\"/>\n",
       "<text text-anchor=\"start\" x=\"108.5\" y=\"-466\" font-family=\"Linux libertine\" font-size=\"10.00\">(128, 128) </text>\n",
       "</g>\n",
       "<!-- 0&#45;&gt;1 -->\n",
       "<g id=\"edge1\" class=\"edge\">\n",
       "<title>0&#45;&gt;1</title>\n",
       "<path fill=\"none\" stroke=\"black\" d=\"M86.5,-535.94C86.5,-528.45 86.5,-519.12 86.5,-510.24\"/>\n",
       "<polygon fill=\"black\" stroke=\"black\" points=\"90,-510.16 86.5,-500.16 83,-510.16 90,-510.16\"/>\n",
       "</g>\n",
       "<!-- 2 -->\n",
       "<g id=\"node3\" class=\"node\">\n",
       "<title>2</title>\n",
       "<polygon fill=\"aliceblue\" stroke=\"transparent\" points=\"163.5,-422 9.5,-422 9.5,-380 163.5,-380 163.5,-422\"/>\n",
       "<polygon fill=\"none\" stroke=\"black\" points=\"9.5,-380 9.5,-422 56.5,-422 56.5,-380 9.5,-380\"/>\n",
       "<text text-anchor=\"start\" x=\"24\" y=\"-404\" font-family=\"Linux libertine\" font-size=\"10.00\">add</text>\n",
       "<text text-anchor=\"start\" x=\"14.5\" y=\"-393\" font-family=\"Linux libertine\" font-size=\"10.00\">depth:1</text>\n",
       "<polygon fill=\"none\" stroke=\"black\" points=\"56.5,-401 56.5,-422 103.5,-422 103.5,-401 56.5,-401\"/>\n",
       "<text text-anchor=\"start\" x=\"66\" y=\"-409\" font-family=\"Linux libertine\" font-size=\"10.00\">input:</text>\n",
       "<polygon fill=\"none\" stroke=\"black\" points=\"103.5,-401 103.5,-422 163.5,-422 163.5,-401 103.5,-401\"/>\n",
       "<text text-anchor=\"start\" x=\"108.5\" y=\"-409\" font-family=\"Linux libertine\" font-size=\"10.00\">(128, 128) </text>\n",
       "<polygon fill=\"none\" stroke=\"black\" points=\"56.5,-380 56.5,-401 103.5,-401 103.5,-380 56.5,-380\"/>\n",
       "<text text-anchor=\"start\" x=\"61.5\" y=\"-388\" font-family=\"Linux libertine\" font-size=\"10.00\">output: </text>\n",
       "<polygon fill=\"none\" stroke=\"black\" points=\"103.5,-380 103.5,-401 163.5,-401 163.5,-380 103.5,-380\"/>\n",
       "<text text-anchor=\"start\" x=\"108.5\" y=\"-388\" font-family=\"Linux libertine\" font-size=\"10.00\">(128, 128) </text>\n",
       "</g>\n",
       "<!-- 1&#45;&gt;2 -->\n",
       "<g id=\"edge2\" class=\"edge\">\n",
       "<title>1&#45;&gt;2</title>\n",
       "<path fill=\"none\" stroke=\"black\" d=\"M86.5,-457.63C86.5,-449.82 86.5,-440.73 86.5,-432.18\"/>\n",
       "<polygon fill=\"black\" stroke=\"black\" points=\"90,-432.16 86.5,-422.16 83,-432.16 90,-432.16\"/>\n",
       "</g>\n",
       "<!-- 3 -->\n",
       "<g id=\"node4\" class=\"node\">\n",
       "<title>3</title>\n",
       "<polygon fill=\"#c1ffc1\" stroke=\"transparent\" points=\"163.5,-344 9.5,-344 9.5,-302 163.5,-302 163.5,-344\"/>\n",
       "<polygon fill=\"none\" stroke=\"black\" points=\"9.5,-302 9.5,-344 56.5,-344 56.5,-302 9.5,-302\"/>\n",
       "<text text-anchor=\"start\" x=\"18\" y=\"-326\" font-family=\"Linux libertine\" font-size=\"10.00\">Linear</text>\n",
       "<text text-anchor=\"start\" x=\"14.5\" y=\"-315\" font-family=\"Linux libertine\" font-size=\"10.00\">depth:1</text>\n",
       "<polygon fill=\"none\" stroke=\"black\" points=\"56.5,-323 56.5,-344 103.5,-344 103.5,-323 56.5,-323\"/>\n",
       "<text text-anchor=\"start\" x=\"66\" y=\"-331\" font-family=\"Linux libertine\" font-size=\"10.00\">input:</text>\n",
       "<polygon fill=\"none\" stroke=\"black\" points=\"103.5,-323 103.5,-344 163.5,-344 163.5,-323 103.5,-323\"/>\n",
       "<text text-anchor=\"start\" x=\"108.5\" y=\"-331\" font-family=\"Linux libertine\" font-size=\"10.00\">(128, 128) </text>\n",
       "<polygon fill=\"none\" stroke=\"black\" points=\"56.5,-302 56.5,-323 103.5,-323 103.5,-302 56.5,-302\"/>\n",
       "<text text-anchor=\"start\" x=\"61.5\" y=\"-310\" font-family=\"Linux libertine\" font-size=\"10.00\">output: </text>\n",
       "<polygon fill=\"none\" stroke=\"black\" points=\"103.5,-302 103.5,-323 163.5,-323 163.5,-302 103.5,-302\"/>\n",
       "<text text-anchor=\"start\" x=\"108.5\" y=\"-310\" font-family=\"Linux libertine\" font-size=\"10.00\">(128, 103) </text>\n",
       "</g>\n",
       "<!-- 2&#45;&gt;3 -->\n",
       "<g id=\"edge3\" class=\"edge\">\n",
       "<title>2&#45;&gt;3</title>\n",
       "<path fill=\"none\" stroke=\"black\" d=\"M86.5,-379.63C86.5,-371.82 86.5,-362.73 86.5,-354.18\"/>\n",
       "<polygon fill=\"black\" stroke=\"black\" points=\"90,-354.16 86.5,-344.16 83,-354.16 90,-354.16\"/>\n",
       "</g>\n",
       "<!-- 4 -->\n",
       "<g id=\"node5\" class=\"node\">\n",
       "<title>4</title>\n",
       "<polygon fill=\"#c1ffc1\" stroke=\"transparent\" points=\"165,-266 8,-266 8,-224 165,-224 165,-266\"/>\n",
       "<polygon fill=\"none\" stroke=\"black\" points=\"8.5,-224 8.5,-266 58.5,-266 58.5,-224 8.5,-224\"/>\n",
       "<text text-anchor=\"start\" x=\"13.5\" y=\"-248\" font-family=\"Linux libertine\" font-size=\"10.00\">Dropout</text>\n",
       "<text text-anchor=\"start\" x=\"15\" y=\"-237\" font-family=\"Linux libertine\" font-size=\"10.00\">depth:1</text>\n",
       "<polygon fill=\"none\" stroke=\"black\" points=\"58.5,-245 58.5,-266 105.5,-266 105.5,-245 58.5,-245\"/>\n",
       "<text text-anchor=\"start\" x=\"68\" y=\"-253\" font-family=\"Linux libertine\" font-size=\"10.00\">input:</text>\n",
       "<polygon fill=\"none\" stroke=\"black\" points=\"105.5,-245 105.5,-266 165.5,-266 165.5,-245 105.5,-245\"/>\n",
       "<text text-anchor=\"start\" x=\"110.5\" y=\"-253\" font-family=\"Linux libertine\" font-size=\"10.00\">(128, 103) </text>\n",
       "<polygon fill=\"none\" stroke=\"black\" points=\"58.5,-224 58.5,-245 105.5,-245 105.5,-224 58.5,-224\"/>\n",
       "<text text-anchor=\"start\" x=\"63.5\" y=\"-232\" font-family=\"Linux libertine\" font-size=\"10.00\">output: </text>\n",
       "<polygon fill=\"none\" stroke=\"black\" points=\"105.5,-224 105.5,-245 165.5,-245 165.5,-224 105.5,-224\"/>\n",
       "<text text-anchor=\"start\" x=\"110.5\" y=\"-232\" font-family=\"Linux libertine\" font-size=\"10.00\">(128, 103) </text>\n",
       "</g>\n",
       "<!-- 3&#45;&gt;4 -->\n",
       "<g id=\"edge4\" class=\"edge\">\n",
       "<title>3&#45;&gt;4</title>\n",
       "<path fill=\"none\" stroke=\"black\" d=\"M86.5,-301.63C86.5,-293.82 86.5,-284.73 86.5,-276.18\"/>\n",
       "<polygon fill=\"black\" stroke=\"black\" points=\"90,-276.16 86.5,-266.16 83,-276.16 90,-276.16\"/>\n",
       "</g>\n",
       "<!-- 5 -->\n",
       "<g id=\"node6\" class=\"node\">\n",
       "<title>5</title>\n",
       "<polygon fill=\"aliceblue\" stroke=\"transparent\" points=\"163.5,-188 9.5,-188 9.5,-146 163.5,-146 163.5,-188\"/>\n",
       "<polygon fill=\"none\" stroke=\"black\" points=\"9.5,-146 9.5,-188 56.5,-188 56.5,-146 9.5,-146\"/>\n",
       "<text text-anchor=\"start\" x=\"26\" y=\"-170\" font-family=\"Linux libertine\" font-size=\"10.00\">div</text>\n",
       "<text text-anchor=\"start\" x=\"14.5\" y=\"-159\" font-family=\"Linux libertine\" font-size=\"10.00\">depth:1</text>\n",
       "<polygon fill=\"none\" stroke=\"black\" points=\"56.5,-167 56.5,-188 103.5,-188 103.5,-167 56.5,-167\"/>\n",
       "<text text-anchor=\"start\" x=\"66\" y=\"-175\" font-family=\"Linux libertine\" font-size=\"10.00\">input:</text>\n",
       "<polygon fill=\"none\" stroke=\"black\" points=\"103.5,-167 103.5,-188 163.5,-188 163.5,-167 103.5,-167\"/>\n",
       "<text text-anchor=\"start\" x=\"108.5\" y=\"-175\" font-family=\"Linux libertine\" font-size=\"10.00\">(128, 103) </text>\n",
       "<polygon fill=\"none\" stroke=\"black\" points=\"56.5,-146 56.5,-167 103.5,-167 103.5,-146 56.5,-146\"/>\n",
       "<text text-anchor=\"start\" x=\"61.5\" y=\"-154\" font-family=\"Linux libertine\" font-size=\"10.00\">output: </text>\n",
       "<polygon fill=\"none\" stroke=\"black\" points=\"103.5,-146 103.5,-167 163.5,-167 163.5,-146 103.5,-146\"/>\n",
       "<text text-anchor=\"start\" x=\"108.5\" y=\"-154\" font-family=\"Linux libertine\" font-size=\"10.00\">(128, 103) </text>\n",
       "</g>\n",
       "<!-- 4&#45;&gt;5 -->\n",
       "<g id=\"edge5\" class=\"edge\">\n",
       "<title>4&#45;&gt;5</title>\n",
       "<path fill=\"none\" stroke=\"black\" d=\"M86.5,-223.63C86.5,-215.82 86.5,-206.73 86.5,-198.18\"/>\n",
       "<polygon fill=\"black\" stroke=\"black\" points=\"90,-198.16 86.5,-188.16 83,-198.16 90,-198.16\"/>\n",
       "</g>\n",
       "<!-- 6 -->\n",
       "<g id=\"node7\" class=\"node\">\n",
       "<title>6</title>\n",
       "<polygon fill=\"#c1ffc1\" stroke=\"transparent\" points=\"173,-110 0,-110 0,-68 173,-68 173,-110\"/>\n",
       "<polygon fill=\"none\" stroke=\"black\" points=\"0.5,-68 0.5,-110 66.5,-110 66.5,-68 0.5,-68\"/>\n",
       "<text text-anchor=\"start\" x=\"5.5\" y=\"-92\" font-family=\"Linux libertine\" font-size=\"10.00\">LogSoftmax</text>\n",
       "<text text-anchor=\"start\" x=\"15\" y=\"-81\" font-family=\"Linux libertine\" font-size=\"10.00\">depth:1</text>\n",
       "<polygon fill=\"none\" stroke=\"black\" points=\"66.5,-89 66.5,-110 113.5,-110 113.5,-89 66.5,-89\"/>\n",
       "<text text-anchor=\"start\" x=\"76\" y=\"-97\" font-family=\"Linux libertine\" font-size=\"10.00\">input:</text>\n",
       "<polygon fill=\"none\" stroke=\"black\" points=\"113.5,-89 113.5,-110 173.5,-110 173.5,-89 113.5,-89\"/>\n",
       "<text text-anchor=\"start\" x=\"118.5\" y=\"-97\" font-family=\"Linux libertine\" font-size=\"10.00\">(128, 103) </text>\n",
       "<polygon fill=\"none\" stroke=\"black\" points=\"66.5,-68 66.5,-89 113.5,-89 113.5,-68 66.5,-68\"/>\n",
       "<text text-anchor=\"start\" x=\"71.5\" y=\"-76\" font-family=\"Linux libertine\" font-size=\"10.00\">output: </text>\n",
       "<polygon fill=\"none\" stroke=\"black\" points=\"113.5,-68 113.5,-89 173.5,-89 173.5,-68 113.5,-68\"/>\n",
       "<text text-anchor=\"start\" x=\"118.5\" y=\"-76\" font-family=\"Linux libertine\" font-size=\"10.00\">(128, 103) </text>\n",
       "</g>\n",
       "<!-- 5&#45;&gt;6 -->\n",
       "<g id=\"edge6\" class=\"edge\">\n",
       "<title>5&#45;&gt;6</title>\n",
       "<path fill=\"none\" stroke=\"black\" d=\"M86.5,-145.63C86.5,-137.82 86.5,-128.73 86.5,-120.18\"/>\n",
       "<polygon fill=\"black\" stroke=\"black\" points=\"90,-120.16 86.5,-110.16 83,-120.16 90,-120.16\"/>\n",
       "</g>\n",
       "<!-- 7 -->\n",
       "<g id=\"node8\" class=\"node\">\n",
       "<title>7</title>\n",
       "<polygon fill=\"lightyellow\" stroke=\"transparent\" points=\"153.5,-32 19.5,-32 19.5,0 153.5,0 153.5,-32\"/>\n",
       "<polygon fill=\"none\" stroke=\"black\" points=\"19.5,0 19.5,-32 95.5,-32 95.5,0 19.5,0\"/>\n",
       "<text text-anchor=\"start\" x=\"24.5\" y=\"-19\" font-family=\"Linux libertine\" font-size=\"10.00\">output&#45;tensor</text>\n",
       "<text text-anchor=\"start\" x=\"39\" y=\"-8\" font-family=\"Linux libertine\" font-size=\"10.00\">depth:0</text>\n",
       "<polygon fill=\"none\" stroke=\"black\" points=\"95.5,0 95.5,-32 153.5,-32 153.5,0 95.5,0\"/>\n",
       "<text text-anchor=\"start\" x=\"100.5\" y=\"-13.5\" font-family=\"Linux libertine\" font-size=\"10.00\">(128, 103)</text>\n",
       "</g>\n",
       "<!-- 6&#45;&gt;7 -->\n",
       "<g id=\"edge7\" class=\"edge\">\n",
       "<title>6&#45;&gt;7</title>\n",
       "<path fill=\"none\" stroke=\"black\" d=\"M86.5,-67.84C86.5,-59.89 86.5,-50.66 86.5,-42.26\"/>\n",
       "<polygon fill=\"black\" stroke=\"black\" points=\"90,-42.24 86.5,-32.24 83,-42.24 90,-42.24\"/>\n",
       "</g>\n",
       "</g>\n",
       "</svg>\n"
      ],
      "text/plain": [
       "<graphviz.graphs.Digraph at 0x735ae62785a0>"
      ]
     },
     "execution_count": 104,
     "metadata": {},
     "output_type": "execute_result"
    }
   ],
   "source": [
    "import torchvision\n",
    "from torchview import draw_graph\n",
    "\n",
    "rnn.initHidden()\n",
    "model_graph = draw_graph(rnn, input_size=(n_hidden,n_letters), expand_nested=True, device=device)\n",
    "model_graph.visual_graph"
   ]
  },
  {
   "cell_type": "markdown",
   "metadata": {},
   "source": [
    "## Analýza aktivací neuronů ve skryté vstvě"
   ]
  },
  {
   "cell_type": "code",
   "execution_count": null,
   "metadata": {},
   "outputs": [],
   "source": [
    "rnn.hidden"
   ]
  },
  {
   "cell_type": "code",
   "execution_count": null,
   "metadata": {},
   "outputs": [
    {
     "name": "stdout",
     "output_type": "stream",
     "text": [
      "Ealavke               | je v datasetu:  False\n"
     ]
    }
   ],
   "source": [
    "max_length = 20\n",
    "\n",
    "# Sample from a category and starting letter\n",
    "def sampleAnalysis(start_letter='A', temperature=1):\n",
    "    list_prob = []\n",
    "    list_hidden_states = []\n",
    "    \n",
    "    with torch.no_grad():  # no need to track history in sampling\n",
    "        input = inputTensor(start_letter, n_letters)\n",
    "        rnn.initHidden()\n",
    "\n",
    "        output_name = start_letter\n",
    "\n",
    "        for i in range(max_length):\n",
    "            #print(torch.exp(output.squeeze()))\n",
    "            \n",
    "            if temperature != 'max':  # sample from distribution\n",
    "                output, _ = rnn(input[0].to(device), temperature=temperature)\n",
    "                \n",
    "                propabilities = torch.exp(output.squeeze())  # temperature\n",
    "                index = propabilities.multinomial(num_samples=1, replacement=True)\n",
    "                list_prob.append(propabilities)\n",
    "                \n",
    "                a = torch.arange(n_letters).to(device)\n",
    "                topi = a[index]\n",
    "            else:  # max\n",
    "                output, _ = rnn(input[0].to(device), temperature=1)\n",
    "                topv, topi = output.topk(1)\n",
    "                topi = topi[0][0]\n",
    "                \n",
    "            list_hidden_states.append(rnn.hidden)\n",
    "                                \n",
    "            if topi == n_letters - 1:\n",
    "                break\n",
    "            else:\n",
    "                letter = all_letters[topi]\n",
    "                output_name += letter\n",
    "            input = inputTensor(letter, n_letters)\n",
    "\n",
    "        return output_name, list_prob, list_hidden_states\n",
    "\n",
    "# CHANGE START LETTER\n",
    "start_letter = 'E'\n",
    "\n",
    "output_name, list_prob, list_hidden_states = sampleAnalysis(start_letter, temperature = 0.8)\n",
    "txt = ' '*(22-len(output_name))\n",
    "print(f'{output_name}{txt}| je v datasetu: ', output_name in names_all)"
   ]
  },
  {
   "cell_type": "code",
   "execution_count": null,
   "metadata": {},
   "outputs": [
    {
     "data": {
      "text/plain": [
       "(102,\n",
       " 'ABCDEFGHIJKLMNOPQRSTUVWXYZabcdefghijklmnopqrstuvwxyzÁÇÉÍÓÖÜáâäæçéëíïóôöøúûüýĆČčďěĽľŁłňŘřŞşŠšŤťůűźżŽžʼ$')"
      ]
     },
     "metadata": {},
     "output_type": "display_data"
    }
   ],
   "source": [
    "len(all_letters), all_letters"
   ]
  },
  {
   "cell_type": "code",
   "execution_count": null,
   "metadata": {},
   "outputs": [],
   "source": [
    "first_cnt = 10\n",
    "first_ind = [torch.topk(prob, first_cnt, dim=0).indices.numpy() for prob in list_prob]\n",
    "first_prob = [prob[torch.topk(prob, first_cnt, dim=0).indices.numpy()] for prob in list_prob]\n",
    "first_letters = [[all_letters[idx] if idx < len(all_letters) else 'EOS' for idx in torch.topk(prob, first_cnt, dim=0).indices.numpy()] for prob in list_prob]\n",
    "\n",
    "zarr = np.zeros(first_cnt)\n",
    "zarr[0] = 1\n",
    "first_prob.insert(0, zarr)\n",
    "\n",
    "charr = ['']*(first_cnt-1)\n",
    "charr.insert(0,start_letter)\n",
    "first_letters.insert(0, charr)\n",
    "\n",
    "#first_ind, first_prob, first_letters"
   ]
  },
  {
   "cell_type": "code",
   "execution_count": null,
   "metadata": {},
   "outputs": [
    {
     "data": {
      "text/plain": [
       "['E', 'a', 'l', 'a', 'v', 'k', 'e']"
      ]
     },
     "metadata": {},
     "output_type": "display_data"
    }
   ],
   "source": [
    "list(output_name)"
   ]
  },
  {
   "cell_type": "markdown",
   "metadata": {},
   "source": [
    "Hodnoty aktivace pro konkrétní neuron ve skryté vrstvě"
   ]
  },
  {
   "cell_type": "code",
   "execution_count": null,
   "metadata": {},
   "outputs": [
    {
     "data": {
      "text/plain": [
       "array([ 0.        , -0.07578509, -0.36010897, -0.91851234, -1.336549  ,\n",
       "       -1.524146  , -1.6372837 , -1.7838877 ], dtype=float32)"
      ]
     },
     "metadata": {},
     "output_type": "display_data"
    }
   ],
   "source": [
    "neur_idx = 1\n",
    "\n",
    "list_hidden_states = np.array(list_hidden_states).squeeze()\n",
    "hidd_states = list_hidden_states[:,neur_idx]\n",
    "hidd_states = np.insert(hidd_states, 0, 0)\n",
    "hidd_states"
   ]
  },
  {
   "cell_type": "code",
   "execution_count": null,
   "metadata": {},
   "outputs": [
    {
     "data": {
      "text/plain": [
       "array([[0.        , 0.        , 0.        , 0.        , 0.        ,\n",
       "        0.        , 0.        , 0.        , 0.        , 0.        ],\n",
       "       [1.        , 0.        , 0.        , 0.        , 0.        ,\n",
       "        0.        , 0.        , 0.        , 0.        , 0.        ],\n",
       "       [0.20061983, 0.14512566, 0.08226797, 0.07782461, 0.07158079,\n",
       "        0.06108891, 0.05420543, 0.05408461, 0.02366396, 0.02159487],\n",
       "       [0.26792637, 0.24500218, 0.07636154, 0.05460576, 0.04006299,\n",
       "        0.03544253, 0.03368717, 0.0286148 , 0.02182723, 0.01881991],\n",
       "       [0.23897254, 0.20944875, 0.20298781, 0.0515274 , 0.03509137,\n",
       "        0.03126996, 0.0261696 , 0.02332604, 0.02142181, 0.01904682],\n",
       "       [0.59442061, 0.07859479, 0.04832272, 0.044892  , 0.02730436,\n",
       "        0.01680035, 0.01647219, 0.01464469, 0.01440912, 0.0118991 ],\n",
       "       [0.31559131, 0.27130988, 0.16887985, 0.08487671, 0.01854577,\n",
       "        0.01736904, 0.01531465, 0.01238602, 0.00870397, 0.00734951],\n",
       "       [0.37546197, 0.37028736, 0.14048098, 0.03405308, 0.01228636,\n",
       "        0.01109617, 0.00748526, 0.00579284, 0.00558276, 0.00349378],\n",
       "       [0.74166256, 0.09109943, 0.02465235, 0.0198315 , 0.01960669,\n",
       "        0.01142026, 0.01015497, 0.00668037, 0.00582328, 0.00546245]])"
      ]
     },
     "metadata": {},
     "output_type": "display_data"
    }
   ],
   "source": [
    "np.insert(first_prob, 0, 0, axis=0)"
   ]
  },
  {
   "cell_type": "code",
   "execution_count": null,
   "metadata": {},
   "outputs": [
    {
     "name": "stdout",
     "output_type": "stream",
     "text": [
      "[[0.5        0.5        0.5337876  0.4499274  0.47020406 0.43090636\n",
      "  0.4123119  0.4638193  0.5633949 ]\n",
      " [0.5        0.5        0.5908886  0.6284456  0.6582888  0.5871348\n",
      "  0.5293862  0.4935395  0.44581416]\n",
      " [0.5        0.5        0.42193493 0.34559494 0.3420299  0.3136924\n",
      "  0.26444465 0.25478578 0.284875  ]\n",
      " [0.5        0.5        0.39777896 0.35573307 0.3272938  0.33072612\n",
      "  0.31852686 0.3003137  0.2807517 ]\n",
      " [0.5        0.5        0.40311497 0.37730387 0.3650653  0.36179906\n",
      "  0.37671608 0.39607164 0.41503328]\n",
      " [0.5        0.5        0.4354283  0.40262616 0.45514223 0.4289041\n",
      "  0.43952554 0.48405614 0.534953  ]\n",
      " [0.5        0.5        0.5419657  0.4866691  0.45652497 0.43198037\n",
      "  0.40281287 0.35420954 0.28416175]\n",
      " [0.5        0.5        0.57663214 0.6413209  0.7619112  0.7895\n",
      "  0.7979874  0.81531996 0.8293918 ]\n",
      " [0.5        0.5        0.53403956 0.5513421  0.61676633 0.61255175\n",
      "  0.6162941  0.6155658  0.60621876]\n",
      " [0.5        0.5        0.43858436 0.47428122 0.4865652  0.49909398\n",
      "  0.47106516 0.4607258  0.46249813]]\n"
     ]
    },
    {
     "data": {
      "image/png": "[encoded data removed]",
      "text/plain": [
       "<Figure size 1000x700 with 1 Axes>"
      ]
     },
     "metadata": {},
     "output_type": "display_data"
    }
   ],
   "source": [
    "import numpy as np\n",
    "\n",
    "import matplotlib.pyplot as plt\n",
    "\n",
    "hidden_neur_cnt = 10\n",
    "\n",
    "# Select hidden_neur_cnt random unique indices from 0 to list_hidden_states.shape[1] - 1\n",
    "#np.random.seed(42)\n",
    "hidden_indices = np.random.choice(list_hidden_states.shape[1], hidden_neur_cnt, replace=False)\n",
    "\n",
    "list_hidden_states = np.array(list_hidden_states.squeeze())\n",
    "hidd_states = list_hidden_states[:,hidden_indices]\n",
    "hidd_states = np.insert(hidd_states, 0, 0, axis=0)\n",
    "hidd_states = np.insert(hidd_states, 0, 0, axis=0).T\n",
    "    \n",
    "# Convert first_prob tensors to numpy arrays for easier handling\n",
    "#probs = [p.detach().cpu().numpy() for p in first_prob]\n",
    "probs = np.insert(first_prob, 0, 0, axis=0)\n",
    "#probs = first_prob\n",
    "#print(len(probs))\n",
    "\n",
    "first_lett = np.insert(first_letters, 0, '', axis=0)\n",
    "\n",
    "# Create a table of letters and their probabilities\n",
    "table_data = []\n",
    "for i in range(first_cnt):\n",
    "    row = []\n",
    "    for step in range(len(first_lett)):\n",
    "        if i < len(first_lett[step]):\n",
    "            row.append(first_lett[step][i])\n",
    "        else:\n",
    "            row.append('')\n",
    "    table_data.append(row)\n",
    "\n",
    "for ni in range(hidden_neur_cnt):\n",
    "    table_data.insert(0, [hidden_indices[ni]] + list(output_name) + ['EOS'])\n",
    "\n",
    "# Create a table of probabilities for coloring\n",
    "prob_data = []\n",
    "\n",
    "# Add the output_name as the first row in the table\n",
    "for i in range(first_cnt):\n",
    "    row = []\n",
    "    for step in range(len(probs)):\n",
    "        if i < len(probs[step]):\n",
    "            row.append(probs[step][i])\n",
    "        else:\n",
    "            row.append(0)\n",
    "    prob_data.append(row)\n",
    "    \n",
    "    \n",
    "\n",
    "# Plot the table\n",
    "fig, ax = plt.subplots(figsize=(10, 4+hidden_neur_cnt//3))\n",
    "\n",
    "table = ax.table(cellText=table_data,\n",
    "                cellLoc='center',\n",
    "                loc='center')\n",
    "\n",
    "# Normalize hidd_states for coloring the first row\n",
    "hidd_states_norm = (torch.sigmoid(torch.tensor(hidd_states)).numpy())    \n",
    "\n",
    "print(hidd_states_norm)\n",
    "\n",
    "# Create a colormap for the first row (e.g., Blues)\n",
    "first_row_colors = plt.cm.RdBu(hidd_states_norm)\n",
    "\n",
    "# Prepare the rest of the cell colors using prob_data (skip the first row)\n",
    "prob_colors = plt.cm.Greens(np.array(prob_data))\n",
    "\n",
    "# Combine first row and the rest\n",
    "cell_colours = np.vstack([first_row_colors, prob_colors])\n",
    "\n",
    "# Set the cell colors\n",
    "for i in range(len(cell_colours)):\n",
    "    for j in range(len(cell_colours[i])):\n",
    "        table[(i, j)].set_facecolor(cell_colours[i, j])\n",
    "                        \n",
    "table.auto_set_font_size(False)\n",
    "table.set_fontsize(12)\n",
    "table.scale(1, 1.5)  # width, height scaling; 1.5*10=15px height per row if default is 10\n",
    "\n",
    "\n",
    "ax.axis('off')\n",
    "ax.set_title('Activation of 10 randomly selected neurons in hidden layer\\nTop 10 Letters and Their Probabilities at Each Step')\n",
    "    \n",
    "    \n",
    "plt.show()"
   ]
  },
  {
   "cell_type": "markdown",
   "metadata": {},
   "source": [
    "## Zdroje"
   ]
  },
  {
   "cell_type": "markdown",
   "metadata": {},
   "source": [
    "https://karpathy.github.io/2015/05/21/rnn-effectiveness/\n",
    "\n",
    "https://docs.pytorch.org/tutorials/intermediate/char_rnn_classification_tutorial.html\n",
    "\n",
    "https://www.tensorflow.org/text/tutorials/text_generation"
   ]
  }
 ],
 "metadata": {
  "kernelspec": {
   "display_name": ".venv",
   "language": "python",
   "name": "python3"
  },
  "language_info": {
   "codemirror_mode": {
    "name": "ipython",
    "version": 3
   },
   "file_extension": ".py",
   "mimetype": "text/x-python",
   "name": "python",
   "nbconvert_exporter": "python",
   "pygments_lexer": "ipython3",
   "version": "3.10.7"
  }
 },
 "nbformat": 4,
 "nbformat_minor": 0
}
