{
 "cells": [
  {
   "cell_type": "markdown",
   "id": "20ab2f66",
   "metadata": {},
   "source": [
    "# Úvod do neuronových sítí"
   ]
  },
  {
   "cell_type": "markdown",
   "id": "5db5c4f3",
   "metadata": {},
   "source": [
    "Motivace - fungování mozku, propojení množství neuronů, aktivace\n",
    "\n",
    "![Neuron](../images/neuron.png)"
   ]
  },
  {
   "cell_type": "code",
   "execution_count": null,
   "id": "d2205a26",
   "metadata": {
    "vscode": {
     "languageId": "plaintext"
    }
   },
   "outputs": [],
   "source": []
  },
  {
   "cell_type": "markdown",
   "id": "f94191bc",
   "metadata": {},
   "source": [
    "## Perceptron\n",
    "\n",
    "Demo: https://playground.tensorflow.org/\n",
    "\n",
    "Základní architektura neuronové sítě. Skládá se z několika vrstev - vstup, výstup + skryté vrstvy:\n",
    "\n",
    "![perceptron](../images/perceptron.png)"
   ]
  },
  {
   "cell_type": "markdown",
   "id": "9e7da258",
   "metadata": {},
   "source": [
    "TODO: nejaky jednoduchy priklad - viz demo ? + 1 jiny realny ?"
   ]
  },
  {
   "cell_type": "code",
   "execution_count": null,
   "id": "8f10b265",
   "metadata": {
    "vscode": {
     "languageId": "plaintext"
    }
   },
   "outputs": [],
   "source": []
  },
  {
   "cell_type": "markdown",
   "id": "2ef7458b",
   "metadata": {},
   "source": [
    "TODO: zpusob trenovani NN !!\n",
    "\n",
    "TODO: batche, ruzne optim., dropout, learning rate, "
   ]
  },
  {
   "cell_type": "markdown",
   "id": "87d77a50",
   "metadata": {},
   "source": [
    "## Konvoluční neuronové sítě\n",
    "\n",
    "Demo: https://cs.stanford.edu/people/karpathy/convnetjs/demo/mnist.html"
   ]
  },
  {
   "cell_type": "markdown",
   "id": "a19faf97",
   "metadata": {},
   "source": [
    "TODO: zde asi jen vysvetleni, teorie, parametry.."
   ]
  },
  {
   "cell_type": "code",
   "execution_count": null,
   "id": "87827381",
   "metadata": {
    "vscode": {
     "languageId": "plaintext"
    }
   },
   "outputs": [],
   "source": []
  },
  {
   "cell_type": "markdown",
   "id": "86b4e57f",
   "metadata": {},
   "source": [
    "## One-hot-encoding\n",
    "\n",
    "* *Label encoding*: \"red\" = 1, \"blue\" = 2, \"green\" = 3\n",
    "* *one-hot encoding*: \"red\" = (1,0,0), \"blue\" = (0,1,0), \"green\" = (0,0,1)\n",
    "\n",
    "Pokud se data dělí do jasně odlišných a nezávislých tříd, je *one-hot* kódování výhodné (potřeba) a může významě zlepšit efektivitu neuronového sítě!\n",
    "\n",
    "Specialita:\n",
    "* Metody *word2vec* - pokročilé metody kódování slov na vektorovou reprezentaci"
   ]
  },
  {
   "cell_type": "markdown",
   "id": "7e1673cd",
   "metadata": {},
   "source": [
    "## Rekurentní neuronové sítě\n",
    "\n",
    "**Motivace** - sekvenční data, obsahující závislosti mezi sousedními prvky\n",
    "\n",
    "**Příklady** - časově závislé sekvence, text\n",
    "\n",
    "*Příklad změny významu v textu:*\n",
    "\n",
    "* The cat chased the mouse.\n",
    "* The mouse chased the cat.\n",
    "\n",
    "Mění se délka sekvence - problém pro konvenční (feed-forward) NN architektury.\n",
    "\n",
    "<img src=\"../images/mlp_on_text.png\" alt=\"Problém s variabilní délkou sekvence pro MLP.\" width=\"1000\"/>\n",
    "\n",
    "**Potřeba zakódovat informaci o pořadí slov (tokenů) přímo v architektuře neuronové sítě.**\n",
    "\n",
    "#### Rekurentní NN:\n",
    "* umožňují zpracovat vstup ve správném pořadí\n",
    "* ukládájí informaci o předcházejících vstupech\n",
    "* umožňují vkládat vstup různých délek\n",
    "* nekteré vstupy/výstupy můžou chybět - překlad řeči, klasifikace, atd..\n",
    "* *Turing complete* = umožňují simulovat libovolný algoritmus! (při poskytnutí dostatku dat..)\n",
    "* *Backpropagation through time* - RNN se učí opakovanou backpropagací v čase\n",
    "\n",
    "<img src=\"../images/rnn2.png\" alt=\"Rekurentní neuronová síť\" width=\"800\"/>\n",
    "\n",
    "Dvě možnosti pro text:\n",
    "* *word-level RNN* - jako token/prvek volíme slovo\n",
    "* *character-level RNN* - jako token/prvek volíme znak\n",
    "\n",
    "#### Word Embedding:\n",
    "* první vrstva přenáší (kóduje) slovo/token do vnitřní reprezentace RNN\n",
    "* po sobě jdoucí slova jsou *zakódovany* aktivací skrytých neuronů\n",
    "\n",
    "#### One-hot encoding:\n",
    "* umožnuje reprezentovat slova/tokeny jako pravděpodobnosti\n",
    "* natrénovanou RNN lze škálovat - ovlivnit \"jak moc si vymýšlí\" nebo jak moc se řídí tím, co se naučila\n",
    "\n",
    "#### Pokročilé rekurentní NN:\n",
    "* problém s *explodujícími a mizejícími gradienty* - čím je neuronová síť hlubší, tím náročnější je trénování a šíření sekvenční informace\n",
    "* dvě řešení:\n",
    "  - LSTM - *Long Short-Term Memory*\n",
    "  - GRU - *Gated Recurrent Unit*\n",
    "\n",
    "#### LSTM\n",
    "\n",
    "Jednoduché RNN si efektivně pamatují informaci pouze pro krátké řetězce (short-memory). LSTM architektura je vytvořená tak, aby prodloužila tuto \"krátkou pamět\" a umožnila efektivní učení vzájemných i pro dlouhé řetezce slov/tokenů.\n",
    "Je to dosaženo přidáním dalšího *long-term* skrytého stavu $c_t$ spolu s mechanismem pomalého zapomínání a přidávání nové informace.\n",
    "\n",
    "<img src=\"../images/lstm.png\" alt=\"lstm\" width=\"800\"/>\n",
    "\n",
    "#### GRU\n",
    "\n",
    "Podobná architektura jako LSTM, ale jiný mechanismus dlouhodobé paměti.\n",
    "\n",
    "<img src=\"../images/gru.png\" alt=\"gru\" width=\"800\"/>"
   ]
  },
  {
   "cell_type": "markdown",
   "id": "8f4d71af",
   "metadata": {},
   "source": [
    "## ChatGPT a jiní chatboti"
   ]
  },
  {
   "cell_type": "markdown",
   "id": "24738700",
   "metadata": {},
   "source": [
    "TODO: stručný uvod/okenko do teorie chatbotu"
   ]
  },
  {
   "cell_type": "markdown",
   "id": "bde43363",
   "metadata": {},
   "source": [
    "## Zdroje"
   ]
  },
  {
   "cell_type": "markdown",
   "id": "a7cc7bb1",
   "metadata": {},
   "source": [
    "*Aggarwal - Neural Networks and Deep Learning*\n",
    "\n",
    "https://eclass.upatras.gr/modules/document/file.php/EE935/%CE%97%CE%BB%CE%B5%CE%BA%CF%84%CF%81%CE%BF%CE%BD%CE%B9%CE%BA%CE%AC%20%CE%92%CE%B9%CE%B2%CE%BB%CE%AF%CE%B1/2018_Book_NeuralNetworksAndDeepLearning.pdf"
   ]
  },
  {
   "cell_type": "markdown",
   "id": "e87527d2",
   "metadata": {},
   "source": [
    "## Kam dál?"
   ]
  },
  {
   "cell_type": "markdown",
   "id": "6f838b33",
   "metadata": {},
   "source": [
    "https://cs.stanford.edu/people/karpathy/convnetjs/"
   ]
  }
 ],
 "metadata": {
  "language_info": {
   "name": "python"
  }
 },
 "nbformat": 4,
 "nbformat_minor": 5
}
