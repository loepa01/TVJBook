{
 "cells": [
  {
   "cell_type": "markdown",
   "id": "5613e265",
   "metadata": {},
   "source": [
    "# 2. Small-scale ChatGPT - generování textu pomocí neuronových sítí"
   ]
  },
  {
   "cell_type": "code",
   "execution_count": null,
   "id": "c3e24940",
   "metadata": {
    "vscode": {
     "languageId": "plaintext"
    }
   },
   "outputs": [],
   "source": []
  },
  {
   "cell_type": "code",
   "execution_count": null,
   "id": "cbf81804",
   "metadata": {
    "vscode": {
     "languageId": "plaintext"
    }
   },
   "outputs": [],
   "source": []
  },
  {
   "cell_type": "code",
   "execution_count": null,
   "id": "8566ca86",
   "metadata": {
    "vscode": {
     "languageId": "plaintext"
    }
   },
   "outputs": [],
   "source": []
  }
 ],
 "metadata": {
  "language_info": {
   "name": "python"
  }
 },
 "nbformat": 4,
 "nbformat_minor": 5
}
