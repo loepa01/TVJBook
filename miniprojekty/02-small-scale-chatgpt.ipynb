{
 "cells": [
  {
   "cell_type": "markdown",
   "id": "5613e265",
   "metadata": {},
   "source": [
    "# 2. Small-scale ChatGPT - generování textu pomocí neuronových sítí"
   ]
  },
  {
   "cell_type": "markdown",
   "id": "92f05718",
   "metadata": {},
   "source": [
    "!pip install -r requirements.txt"
   ]
  },
  {
   "cell_type": "code",
   "execution_count": 17,
   "id": "db8f1c17",
   "metadata": {},
   "outputs": [],
   "source": [
    "import matplotlib.pyplot as plt\n",
    "import numpy as np\n",
    "import torch"
   ]
  },
  {
   "cell_type": "code",
   "execution_count": 18,
   "id": "6c9b1360",
   "metadata": {},
   "outputs": [
    {
     "data": {
      "text/plain": [
       "'cuda'"
      ]
     },
     "execution_count": 18,
     "metadata": {},
     "output_type": "execute_result"
    }
   ],
   "source": [
    "# Make device agnostic code\n",
    "device = \"cuda\" if torch.cuda.is_available() else \"cpu\"\n",
    "device"
   ]
  },
  {
   "cell_type": "code",
   "execution_count": 19,
   "id": "c056da44",
   "metadata": {},
   "outputs": [],
   "source": [
    "#device = 'cpu'  # Force CPU for this example"
   ]
  },
  {
   "cell_type": "code",
   "execution_count": 20,
   "id": "f67efa21",
   "metadata": {},
   "outputs": [
    {
     "data": {
      "text/plain": [
       "device(type='cuda')"
      ]
     },
     "execution_count": 20,
     "metadata": {},
     "output_type": "execute_result"
    }
   ],
   "source": [
    "torch.device(device)"
   ]
  },
  {
   "cell_type": "markdown",
   "id": "62639afd",
   "metadata": {},
   "source": [
    "# Generování jmen pomocí jednoduché RNN"
   ]
  },
  {
   "cell_type": "markdown",
   "id": "e26c18dc",
   "metadata": {},
   "source": [
    "## Příprava dat\n",
    "\n",
    "Databáze evropských jmen a příjmení: https://data.europa.eu/data/datasets/5bc35259634f41122d982759?locale=cs\n",
    "\n",
    "Složka /datasets/SeznamJmenCR"
   ]
  },
  {
   "cell_type": "code",
   "execution_count": 21,
   "id": "151d04e5",
   "metadata": {},
   "outputs": [],
   "source": [
    "import glob\n",
    "import pandas as pd"
   ]
  },
  {
   "cell_type": "code",
   "execution_count": 22,
   "id": "2d872360",
   "metadata": {},
   "outputs": [
    {
     "data": {
      "text/plain": [
       "(11331,)"
      ]
     },
     "execution_count": 22,
     "metadata": {},
     "output_type": "execute_result"
    }
   ],
   "source": [
    "dfs = pd.read_csv('datasets/SeznamJmenCR/OpenData_-_Seznam_jmen_k_2025-05-31.csv', encoding='utf-8')\n",
    "jmena_typ = dfs.iloc[:, 0]\n",
    "jmena_all = dfs.iloc[:, 1]\n",
    "jmena_all.shape"
   ]
  },
  {
   "cell_type": "code",
   "execution_count": 23,
   "id": "765be36d",
   "metadata": {},
   "outputs": [
    {
     "data": {
      "text/plain": [
       "((11172,), (11172,))"
      ]
     },
     "execution_count": 23,
     "metadata": {},
     "output_type": "execute_result"
    }
   ],
   "source": [
    "jmena_all, idx = np.unique(jmena_all, return_index=True)\n",
    "jmena_typ = jmena_typ[idx]\n",
    "jmena_all.shape, jmena_typ.shape"
   ]
  },
  {
   "cell_type": "code",
   "execution_count": 24,
   "id": "0ae13d60",
   "metadata": {},
   "outputs": [
    {
     "data": {
      "text/plain": [
       "array(['AADAR', 'AAGTE', 'AAI', 'AAIKE', 'AAJARAQ', 'AAJU', 'AAJUNNGUAQ',\n",
       "       'AAKA', 'AAKKULUK', 'AAL', 'AALIYAH'], dtype=object)"
      ]
     },
     "execution_count": 24,
     "metadata": {},
     "output_type": "execute_result"
    }
   ],
   "source": [
    "jmena_all[:11]  # every 150th name"
   ]
  },
  {
   "cell_type": "markdown",
   "id": "aa02a026",
   "metadata": {},
   "source": [
    "Vyčištění speciálních znaků"
   ]
  },
  {
   "cell_type": "code",
   "execution_count": 25,
   "id": "3c5b471b",
   "metadata": {},
   "outputs": [
    {
     "data": {
      "text/plain": [
       "11172"
      ]
     },
     "execution_count": 25,
     "metadata": {},
     "output_type": "execute_result"
    }
   ],
   "source": [
    "import string\n",
    "\n",
    "jmena_all2 = []\n",
    "\n",
    "# Set vocab to all utf-8 printable characters\n",
    "vocab = list('`1234567890-=[];\\',./*-+.~!@#$%^&*()_+{}:\"|<>?')\n",
    "\n",
    "for jmeno in jmena_all:\n",
    "    cleaned = ''.join([ch for ch in str(jmeno) if ch not in vocab])\n",
    "    first_seq = cleaned.split()[0] if cleaned.split() else ''\n",
    "    jmena_all2.append(first_seq)\n",
    "    \n",
    "jmena_all2 = np.array(jmena_all2)\n",
    "jmena_typ = np.array(jmena_typ)\n",
    "len(jmena_all2)"
   ]
  },
  {
   "cell_type": "code",
   "execution_count": 26,
   "id": "a7a64908",
   "metadata": {},
   "outputs": [
    {
     "data": {
      "text/plain": [
       "((11153,), (11153,))"
      ]
     },
     "execution_count": 26,
     "metadata": {},
     "output_type": "execute_result"
    }
   ],
   "source": [
    "jmena_all2, idx = np.unique(jmena_all2, return_index=True)\n",
    "jmena_typ2 = jmena_typ[idx]\n",
    "jmena_all2.shape, jmena_typ2.shape"
   ]
  },
  {
   "cell_type": "code",
   "execution_count": 27,
   "id": "0564d59a",
   "metadata": {},
   "outputs": [
    {
     "name": "stdout",
     "output_type": "stream",
     "text": [
      "[]\n"
     ]
    }
   ],
   "source": [
    "positions = np.where(jmena_all2 == 'JAN **')[0]\n",
    "print(positions)"
   ]
  },
  {
   "cell_type": "markdown",
   "id": "7b3f5f35",
   "metadata": {},
   "source": [
    "EOS = '\\n', START = '$'\n",
    "\n",
    "<img src=\"../images/names.png\" alt=\"Rekurentní neuronová síť\" width=\"800\"/>"
   ]
  },
  {
   "cell_type": "code",
   "execution_count": 385,
   "id": "d1b993e1",
   "metadata": {},
   "outputs": [
    {
     "name": "stdout",
     "output_type": "stream",
     "text": [
      "63 unique characters\n",
      "['$' '\\n' 'A' 'B' 'C' 'D' 'E' 'F' 'G' 'H' 'I' 'J' 'K' 'L' 'M' 'N' 'O' 'P'\n",
      " 'Q' 'R' 'S' 'T' 'U' 'V' 'W' 'X' 'Y' 'Z' 'i' 'Á' 'Â' 'Ä' 'Æ' 'Ç' 'É' 'Ë'\n",
      " 'Í' 'Ï' 'Ó' 'Ô' 'Ö' 'Ø' 'Ú' 'Û' 'Ü' 'Ý' 'Ć' 'Č' 'Ď' 'Ě' 'Ľ' 'Ł' 'Ň' 'Ř'\n",
      " 'Ş' 'Š' 'Ť' 'Ů' 'Ű' 'Ź' 'Ż' 'Ž' 'ʼ']\n"
     ]
    }
   ],
   "source": [
    "# The unique characters in the file\n",
    "vocab = np.array(sorted(set('\\n'.join(jmena_all2))))\n",
    "\n",
    "# insert special starting character\n",
    "vocab = np.insert(vocab, 0, '$')\n",
    "\n",
    "print(f'{len(vocab)} unique characters')\n",
    "print(vocab)"
   ]
  },
  {
   "cell_type": "markdown",
   "id": "0eb75fb1",
   "metadata": {},
   "source": [
    "### Zpracování textu na tokeny"
   ]
  },
  {
   "cell_type": "code",
   "execution_count": 386,
   "id": "ce9b62eb",
   "metadata": {},
   "outputs": [
    {
     "name": "stdout",
     "output_type": "stream",
     "text": [
      "$\n",
      "ABCDEFGHIJKLMNOPQRSTUVWXYZiÁÂÄÆÇÉËÍÏÓÔÖØÚÛÜÝĆČĎĚĽŁŇŘŞŠŤŮŰŹŻŽʼ\n"
     ]
    }
   ],
   "source": [
    "allowed_characters = ''.join(vocab)\n",
    "print(allowed_characters)\n",
    "n_letters = len(vocab)"
   ]
  },
  {
   "cell_type": "code",
   "execution_count": 387,
   "id": "cfb4db6e",
   "metadata": {},
   "outputs": [],
   "source": [
    "# Find letter index from all_letters, e.g. \"a\" = 0\n",
    "def letterToIndex(letter):\n",
    "    # return our out-of-vocabulary character if we encounter a letter unknown to our model\n",
    "    if letter not in allowed_characters:\n",
    "        return allowed_characters.find(\"_\")\n",
    "    else:\n",
    "        return allowed_characters.find(letter)\n",
    "\n",
    "# Turn a name into a <line_length x 1 x n_letters>,\n",
    "# or an array of one-hot letter vectors\n",
    "def nameToTensor(name):\n",
    "    tensor = torch.zeros(len(name), 1, n_letters)\n",
    "    for li, letter in enumerate(name):\n",
    "        tensor[li][0][letterToIndex(letter)] = 1\n",
    "    return tensor\n",
    "\n",
    "def tensorToName(tensor):\n",
    "    idxs = torch.argmax(tensor, dim=-1).numpy().squeeze()\n",
    "    return ''.join(vocab[idxs][:])"
   ]
  },
  {
   "cell_type": "markdown",
   "id": "049aa0c8",
   "metadata": {},
   "source": [
    "Přidání START a EOS znaků"
   ]
  },
  {
   "cell_type": "code",
   "execution_count": 390,
   "id": "c68bf3dc",
   "metadata": {},
   "outputs": [
    {
     "data": {
      "text/plain": [
       "((11153,),\n",
       " array(['$AADAR', '$AAGTE', '$AAI', '$AAIKE', '$AAJARAQ', '$AAJU',\n",
       "        '$AAJUNNGUAQ', '$AAKA', '$AAKKULUK', '$AAL'], dtype='<U19'),\n",
       " array(['AADAR\\n', 'AAGTE\\n', 'AAI\\n', 'AAIKE\\n', 'AAJARAQ\\n', 'AAJU\\n',\n",
       "        'AAJUNNGUAQ\\n', 'AAKA\\n', 'AAKKULUK\\n', 'AAL\\n'], dtype='<U19'))"
      ]
     },
     "execution_count": 390,
     "metadata": {},
     "output_type": "execute_result"
    }
   ],
   "source": [
    "jmena_input = '$'+jmena_all2[:]\n",
    "#jmena_input = jmena_all2[:]\n",
    "jmena_output = np.array([jmeno[:] +'\\n' for jmeno in jmena_all2])\n",
    "jmena_output.shape, jmena_input[:10], jmena_output[:10]"
   ]
  },
  {
   "cell_type": "code",
   "execution_count": 391,
   "id": "33b6c845",
   "metadata": {},
   "outputs": [
    {
     "data": {
      "text/plain": [
       "(np.str_('$JAN'),\n",
       " tensor([[[1., 0., 0., 0., 0., 0., 0., 0., 0., 0., 0., 0., 0., 0., 0., 0., 0.,\n",
       "           0., 0., 0., 0., 0., 0., 0., 0., 0., 0., 0., 0., 0., 0., 0., 0., 0.,\n",
       "           0., 0., 0., 0., 0., 0., 0., 0., 0., 0., 0., 0., 0., 0., 0., 0., 0.,\n",
       "           0., 0., 0., 0., 0., 0., 0., 0., 0., 0., 0., 0.]],\n",
       " \n",
       "         [[0., 0., 0., 0., 0., 0., 0., 0., 0., 0., 0., 1., 0., 0., 0., 0., 0.,\n",
       "           0., 0., 0., 0., 0., 0., 0., 0., 0., 0., 0., 0., 0., 0., 0., 0., 0.,\n",
       "           0., 0., 0., 0., 0., 0., 0., 0., 0., 0., 0., 0., 0., 0., 0., 0., 0.,\n",
       "           0., 0., 0., 0., 0., 0., 0., 0., 0., 0., 0., 0.]],\n",
       " \n",
       "         [[0., 0., 1., 0., 0., 0., 0., 0., 0., 0., 0., 0., 0., 0., 0., 0., 0.,\n",
       "           0., 0., 0., 0., 0., 0., 0., 0., 0., 0., 0., 0., 0., 0., 0., 0., 0.,\n",
       "           0., 0., 0., 0., 0., 0., 0., 0., 0., 0., 0., 0., 0., 0., 0., 0., 0.,\n",
       "           0., 0., 0., 0., 0., 0., 0., 0., 0., 0., 0., 0.]],\n",
       " \n",
       "         [[0., 0., 0., 0., 0., 0., 0., 0., 0., 0., 0., 0., 0., 0., 0., 1., 0.,\n",
       "           0., 0., 0., 0., 0., 0., 0., 0., 0., 0., 0., 0., 0., 0., 0., 0., 0.,\n",
       "           0., 0., 0., 0., 0., 0., 0., 0., 0., 0., 0., 0., 0., 0., 0., 0., 0.,\n",
       "           0., 0., 0., 0., 0., 0., 0., 0., 0., 0., 0., 0.]]]))"
      ]
     },
     "execution_count": 391,
     "metadata": {},
     "output_type": "execute_result"
    }
   ],
   "source": [
    "id = 4540\n",
    "tensor_name = nameToTensor(jmena_input[id])\n",
    "jmena_input[id], tensor_name"
   ]
  },
  {
   "cell_type": "code",
   "execution_count": 392,
   "id": "fe713769",
   "metadata": {},
   "outputs": [
    {
     "data": {
      "text/plain": [
       "(np.str_('JAN\\n'),\n",
       " tensor([[[0., 0., 0., 0., 0., 0., 0., 0., 0., 0., 0., 1., 0., 0., 0., 0., 0.,\n",
       "           0., 0., 0., 0., 0., 0., 0., 0., 0., 0., 0., 0., 0., 0., 0., 0., 0.,\n",
       "           0., 0., 0., 0., 0., 0., 0., 0., 0., 0., 0., 0., 0., 0., 0., 0., 0.,\n",
       "           0., 0., 0., 0., 0., 0., 0., 0., 0., 0., 0., 0.]],\n",
       " \n",
       "         [[0., 0., 1., 0., 0., 0., 0., 0., 0., 0., 0., 0., 0., 0., 0., 0., 0.,\n",
       "           0., 0., 0., 0., 0., 0., 0., 0., 0., 0., 0., 0., 0., 0., 0., 0., 0.,\n",
       "           0., 0., 0., 0., 0., 0., 0., 0., 0., 0., 0., 0., 0., 0., 0., 0., 0.,\n",
       "           0., 0., 0., 0., 0., 0., 0., 0., 0., 0., 0., 0.]],\n",
       " \n",
       "         [[0., 0., 0., 0., 0., 0., 0., 0., 0., 0., 0., 0., 0., 0., 0., 1., 0.,\n",
       "           0., 0., 0., 0., 0., 0., 0., 0., 0., 0., 0., 0., 0., 0., 0., 0., 0.,\n",
       "           0., 0., 0., 0., 0., 0., 0., 0., 0., 0., 0., 0., 0., 0., 0., 0., 0.,\n",
       "           0., 0., 0., 0., 0., 0., 0., 0., 0., 0., 0., 0.]],\n",
       " \n",
       "         [[0., 1., 0., 0., 0., 0., 0., 0., 0., 0., 0., 0., 0., 0., 0., 0., 0.,\n",
       "           0., 0., 0., 0., 0., 0., 0., 0., 0., 0., 0., 0., 0., 0., 0., 0., 0.,\n",
       "           0., 0., 0., 0., 0., 0., 0., 0., 0., 0., 0., 0., 0., 0., 0., 0., 0.,\n",
       "           0., 0., 0., 0., 0., 0., 0., 0., 0., 0., 0., 0.]]]))"
      ]
     },
     "execution_count": 392,
     "metadata": {},
     "output_type": "execute_result"
    }
   ],
   "source": [
    "id = 4540\n",
    "tensor_name = nameToTensor(jmena_output[id])\n",
    "jmena_output[id], tensor_name"
   ]
  },
  {
   "cell_type": "code",
   "execution_count": 393,
   "id": "efef75fd",
   "metadata": {},
   "outputs": [
    {
     "data": {
      "text/plain": [
       "'JAN\\n'"
      ]
     },
     "execution_count": 393,
     "metadata": {},
     "output_type": "execute_result"
    }
   ],
   "source": [
    "tensorToName(tensor_name)"
   ]
  },
  {
   "cell_type": "markdown",
   "id": "5dd7edc0",
   "metadata": {},
   "source": [
    "Finální převedení všech jmen do one-hot formátu:"
   ]
  },
  {
   "cell_type": "code",
   "execution_count": 394,
   "id": "c793b302",
   "metadata": {},
   "outputs": [
    {
     "data": {
      "text/plain": [
       "(11153, torch.Size([6, 1, 63]), torch.Size([6, 1, 63]))"
      ]
     },
     "execution_count": 394,
     "metadata": {},
     "output_type": "execute_result"
    }
   ],
   "source": [
    "X_train = []\n",
    "y_train = []  # shifted data \n",
    "\n",
    "for i in range(len(jmena_input)):\n",
    "    X_train.append(nameToTensor(jmena_input[i]))\n",
    "    y_train.append(nameToTensor(jmena_input[i]))\n",
    "    \n",
    "len(X_train), X_train[0].shape, y_train[0].shape"
   ]
  },
  {
   "cell_type": "markdown",
   "id": "0b659044",
   "metadata": {},
   "source": [
    "## Konstrukce neuronové sítě"
   ]
  },
  {
   "cell_type": "code",
   "execution_count": 401,
   "id": "fd662d4e",
   "metadata": {},
   "outputs": [
    {
     "name": "stdout",
     "output_type": "stream",
     "text": [
      "CharRNN(\n",
      "  (rnn): RNN(63, 128)\n",
      "  (h2o): Linear(in_features=128, out_features=63, bias=True)\n",
      "  (dropout): Dropout(p=0.1, inplace=False)\n",
      "  (softmax): LogSoftmax(dim=-1)\n",
      ")\n"
     ]
    }
   ],
   "source": [
    "import torch.nn as nn\n",
    "import torch.nn.functional as F\n",
    "import torch.optim as optim\n",
    "\n",
    "class CharRNN(nn.Module):\n",
    "    def __init__(self, input_size, hidden_size, output_size):\n",
    "        super(CharRNN, self).__init__()\n",
    "\n",
    "        self.rnn = nn.RNN(input_size, hidden_size, nonlinearity='tanh')\n",
    "        self.h2o = nn.Linear(hidden_size, output_size)\n",
    "        self.dropout = nn.Dropout(0.1)\n",
    "        self.softmax = nn.LogSoftmax(dim=-1)\n",
    "        \n",
    "        self.hidden_size = hidden_size\n",
    "        self.hidden = torch.zeros(1, 1, self.hidden_size).to(device)\n",
    "\n",
    "    def forward(self, line_tensor):\n",
    "        #print(line_tensor.shape)\n",
    "        rnn_out, self.hidden = self.rnn(line_tensor, self.hidden)\n",
    "        #print(rnn_out.shape)\n",
    "        rnn_out = self.h2o(rnn_out)\n",
    "        rnn_out = self.dropout(rnn_out)\n",
    "        rnn_out = self.softmax(rnn_out)\n",
    "\n",
    "        return rnn_out\n",
    "\n",
    "    def initHidden(self):\n",
    "        self.hidden = torch.zeros(1, self.hidden_size).to(device)\n",
    "\n",
    "n_hidden = 128\n",
    "model = CharRNN(n_letters, n_hidden, n_letters).to(device)\n",
    "print(model)\n",
    "\n",
    "# loss function and optimizer\n",
    "loss_fn = nn.NLLLoss().to(device)  # cross entropy\n",
    "learning_rate = 0.001"
   ]
  },
  {
   "cell_type": "code",
   "execution_count": 402,
   "id": "d1ccb6b5",
   "metadata": {},
   "outputs": [
    {
     "name": "stdout",
     "output_type": "stream",
     "text": [
      "----------------------------------------------------------------\n",
      "        Layer (type)               Output Shape         Param #\n",
      "================================================================\n",
      "               RNN-1  [[-1, 1, 128], [-1, 1, 128]]               0\n",
      "            Linear-2                [-1, 1, 63]           8,127\n",
      "           Dropout-3                [-1, 1, 63]               0\n",
      "        LogSoftmax-4                [-1, 1, 63]               0\n",
      "================================================================\n",
      "Total params: 8,127\n",
      "Trainable params: 8,127\n",
      "Non-trainable params: 0\n",
      "----------------------------------------------------------------\n",
      "Input size (MB): 0.00\n",
      "Forward/backward pass size (MB): 0.12\n",
      "Params size (MB): 0.03\n",
      "Estimated Total Size (MB): 0.15\n",
      "----------------------------------------------------------------\n"
     ]
    }
   ],
   "source": [
    "from torchsummary import summary\n",
    "\n",
    "input_size = (1,len(vocab))\n",
    "summary(model, input_size=input_size, device=device)"
   ]
  },
  {
   "cell_type": "markdown",
   "id": "808e74b1",
   "metadata": {},
   "source": [
    "## Trénování neuronové sítě"
   ]
  },
  {
   "cell_type": "code",
   "execution_count": 403,
   "id": "3215cde1",
   "metadata": {},
   "outputs": [
    {
     "name": "stdout",
     "output_type": "stream",
     "text": [
      "Epoch: 1 | Loss: 22.63980                           \n",
      "Epoch: 2 | Loss: 9.01795                           \n",
      "Epoch: 3 | Loss: 21.96465                           \n",
      "Epoch: 4 | Loss: 13.67216                           \n",
      "Epoch: 5 | Loss: 7.23853                           \n"
     ]
    }
   ],
   "source": [
    "n_epochs = 5    # number of epochs to run\n",
    "epoch_iter = 1000\n",
    "\n",
    "loss_array = []  # to store loss values\n",
    "loss_array_epoch = []  # to store loss values\n",
    "\n",
    "# Put data to target device\n",
    "#X_train = X_train.to(device)\n",
    "#y_train = y_train.to(device)\n",
    "\n",
    "# Build training and evaluation loop\n",
    "for epoch in range(n_epochs):\n",
    "    \n",
    "    indices = np.random.randint(0, len(jmena_input), size=epoch_iter)\n",
    "    #print(indices)\n",
    "    \n",
    "    model.train()\n",
    "    \n",
    "    ### Training    \n",
    "    for i in range(len(indices)):\n",
    "        ind = indices[i]\n",
    "        \n",
    "        X_input = X_train[ind].to(device)\n",
    "        y_output = y_train[ind].type(torch.LongTensor).to(device)\n",
    "        \n",
    "        model.initHidden()\n",
    "\n",
    "        model.zero_grad()\n",
    "\n",
    "        loss = torch.Tensor([0]).to(device) # you can also just simply use ``loss = 0``\n",
    "\n",
    "        for j in range(X_input.size(0)):\n",
    "            output = model(X_input[j])\n",
    "            #print(output, y_output[j])\n",
    "            l = loss_fn(output, torch.argmax(y_output[j], dim=-1))\n",
    "            loss += l\n",
    "\n",
    "        loss.backward()\n",
    "\n",
    "        for p in model.parameters():\n",
    "            p.data.add_(p.grad.data, alpha=-learning_rate)\n",
    "\n",
    "        #return output, loss.item() / input_line_tensor.size(0)\n",
    "        \n",
    "        loss_array.append(loss.item())\n",
    "        \n",
    "        print(f'Epoch {epoch + 1}/{n_epochs}, Batch {i + 1}/{epoch_iter} | Loss: {loss.item():.5f}', end='\\r')\n",
    "        \n",
    "    loss_array_epoch.append(loss.item())\n",
    "    print(f\"Epoch: {epoch + 1} | Loss: {loss.item():.5f}                           \")\n",
    "        "
   ]
  },
  {
   "cell_type": "code",
   "execution_count": 404,
   "id": "5e958ebd",
   "metadata": {},
   "outputs": [
    {
     "data": {
      "image/png": "[encoded data removed]",
      "text/plain": [
       "<Figure size 800x500 with 1 Axes>"
      ]
     },
     "metadata": {},
     "output_type": "display_data"
    }
   ],
   "source": [
    "def running_mean(x, N):\n",
    "    cumsum = np.cumsum(np.insert(x, 0, 0)) \n",
    "    r_avg = (cumsum[N:] - cumsum[:-N]) / float(N)\n",
    "    res = np.zeros(len(x))\n",
    "    res[N-1:] = r_avg\n",
    "    for i in range(N-1):\n",
    "        res[i] = (cumsum[i+1]) / float(i+1)\n",
    "    return res\n",
    "\n",
    "plt.figure(figsize=(8, 5))\n",
    "plt.plot(loss_array, label='Training Loss')\n",
    "N_avg = 50  # Number of batches to average over\n",
    "#plt.plot(running_mean(loss_array, N_avg), '-', label=f'Running mean ({N_avg} batches)')\n",
    "plt.title('Training Loss')\n",
    "plt.xlabel('Batch Number')\n",
    "plt.ylabel('Loss')\n",
    "plt.yscale('log')\n",
    "plt.legend()\n",
    "plt.tight_layout()"
   ]
  },
  {
   "cell_type": "markdown",
   "id": "fbe9d6a3",
   "metadata": {},
   "source": [
    "## Vzorkování natrénováné RNN"
   ]
  },
  {
   "cell_type": "code",
   "execution_count": 412,
   "id": "6bf835d0",
   "metadata": {},
   "outputs": [
    {
     "data": {
      "text/plain": [
       "torch.Size([1, 63])"
      ]
     },
     "execution_count": 412,
     "metadata": {},
     "output_type": "execute_result"
    }
   ],
   "source": [
    "znak = nameToTensor('$')[0].to(device)\n",
    "jmeno = []\n",
    "model.initHidden()\n",
    "znak.shape"
   ]
  },
  {
   "cell_type": "code",
   "execution_count": 433,
   "id": "6f9c439a",
   "metadata": {},
   "outputs": [
    {
     "name": "stdout",
     "output_type": "stream",
     "text": [
      "torch.Size([1, 63]) tensor([[-1.1144e+01, -9.9416e+00, -7.7320e-03, -1.0854e+01, -1.0709e+01,\n",
      "         -1.1826e+01, -1.2538e+01, -1.0013e+01, -8.4788e+00, -9.0258e+00,\n",
      "         -6.1570e+00, -9.3560e+00, -1.2228e+01, -1.2784e+01, -9.8949e+00,\n",
      "         -9.8949e+00, -1.4205e+01, -1.0685e+01, -9.7658e+00, -6.2224e+00,\n",
      "         -1.1256e+01, -1.4136e+01, -1.0148e+01, -8.9061e+00, -9.8949e+00,\n",
      "         -9.4115e+00, -9.0751e+00, -1.0446e+01, -9.5193e+00, -1.0211e+01,\n",
      "         -9.3239e+00, -9.4208e+00, -8.8607e+00, -9.1906e+00, -9.8008e+00,\n",
      "         -9.8949e+00, -9.1661e+00, -9.7874e+00, -9.0777e+00, -9.2939e+00,\n",
      "         -1.0220e+01, -1.0601e+01, -1.0081e+01, -1.0095e+01, -9.5670e+00,\n",
      "         -9.9335e+00, -9.8949e+00, -9.6149e+00, -9.8776e+00, -9.8949e+00,\n",
      "         -1.0107e+01, -9.8949e+00, -9.8338e+00, -8.9880e+00, -1.0901e+01,\n",
      "         -9.7689e+00, -1.0013e+01, -9.0512e+00, -9.8260e+00, -9.8689e+00,\n",
      "         -9.5966e+00, -8.9240e+00, -9.4625e+00]], device='cuda:0')\n",
      "['$', '$', 'I', 'I', 'I', 'I', 'I', 'I', 'I', 'I', 'I', 'I', 'I', 'I', 'I', 'R', 'R', 'A', 'A', 'A', 'A']\n"
     ]
    }
   ],
   "source": [
    "with torch.no_grad():\n",
    "    znak = model(znak)\n",
    "    print(znak.shape, znak)\n",
    "    jmeno.append(tensorToName(znak.cpu()))\n",
    "print(jmeno)"
   ]
  },
  {
   "cell_type": "code",
   "execution_count": null,
   "id": "a9daf078",
   "metadata": {},
   "outputs": [],
   "source": [
    "with torch.no_grad():  # no need to track history in sampling\n",
    "        category_tensor = categoryTensor(category)\n",
    "        input = inputTensor(start_letter)\n",
    "        hidden = rnn.initHidden()\n",
    "\n",
    "        output_name = start_letter\n",
    "\n",
    "        for i in range(max_length):\n",
    "            output, hidden = rnn(category_tensor, input[0], hidden)\n",
    "            topv, topi = output.topk(1)\n",
    "            topi = topi[0][0]\n",
    "            if topi == n_letters - 1:\n",
    "                break\n",
    "            else:\n",
    "                letter = all_letters[topi]\n",
    "                output_name += letter\n",
    "            input = inputTensor(letter)\n",
    "\n",
    "        return output_name"
   ]
  },
  {
   "cell_type": "markdown",
   "id": "f1629642",
   "metadata": {},
   "source": [
    "# Generování textu pomocí character-level RNN"
   ]
  },
  {
   "cell_type": "markdown",
   "id": "d1ea5b30",
   "metadata": {},
   "source": [
    "## Příprava dat"
   ]
  },
  {
   "cell_type": "code",
   "execution_count": null,
   "id": "c3e24940",
   "metadata": {},
   "outputs": [
    {
     "name": "stderr",
     "output_type": "stream",
     "text": [
      "100.0%\n"
     ]
    }
   ],
   "source": [
    "import os\n",
    "\n",
    "url = 'https://storage.googleapis.com/download.tensorflow.org/data/shakespeare.txt'\n",
    "path_to_file = 'datasets/shakespeare.txt'\n",
    "\n",
    "if not os.path.exists(path_to_file):\n",
    "    torch.hub.download_url_to_file(url, path_to_file)"
   ]
  },
  {
   "cell_type": "markdown",
   "id": "26aeeba8",
   "metadata": {},
   "source": [
    "### Prozkoumání textu"
   ]
  },
  {
   "cell_type": "code",
   "execution_count": 8,
   "id": "cbf81804",
   "metadata": {},
   "outputs": [
    {
     "name": "stdout",
     "output_type": "stream",
     "text": [
      "Length of text: 1115394 characters\n"
     ]
    }
   ],
   "source": [
    "# Read, then decode for py2 compat.\n",
    "text = open(path_to_file, 'rb').read().decode(encoding='utf-8')\n",
    "# length of text is the number of characters in it\n",
    "print(f'Length of text: {len(text)} characters')"
   ]
  },
  {
   "cell_type": "code",
   "execution_count": 9,
   "id": "8566ca86",
   "metadata": {},
   "outputs": [
    {
     "name": "stdout",
     "output_type": "stream",
     "text": [
      "First Citizen:\n",
      "Before we proceed any further, hear me speak.\n",
      "\n",
      "All:\n",
      "Speak, speak.\n",
      "\n",
      "First Citizen:\n",
      "You are all resolved rather to die than to famish?\n",
      "\n",
      "All:\n",
      "Resolved. resolved.\n",
      "\n",
      "First Citizen:\n",
      "First, you know Caius Marcius is chief enemy to the people.\n",
      "\n"
     ]
    }
   ],
   "source": [
    "# Take a look at the first 250 characters in text\n",
    "print(text[:250])"
   ]
  },
  {
   "cell_type": "code",
   "execution_count": 43,
   "id": "25182095",
   "metadata": {},
   "outputs": [
    {
     "name": "stdout",
     "output_type": "stream",
     "text": [
      "65 unique characters\n",
      "['\\n', ' ', '!', '$', '&', \"'\", ',', '-', '.', '3', ':', ';', '?', 'A', 'B', 'C', 'D', 'E', 'F', 'G', 'H', 'I', 'J', 'K', 'L', 'M', 'N', 'O', 'P', 'Q', 'R', 'S', 'T', 'U', 'V', 'W', 'X', 'Y', 'Z', 'a', 'b', 'c', 'd', 'e', 'f', 'g', 'h', 'i', 'j', 'k', 'l', 'm', 'n', 'o', 'p', 'q', 'r', 's', 't', 'u', 'v', 'w', 'x', 'y', 'z']\n"
     ]
    }
   ],
   "source": [
    "# The unique characters in the file\n",
    "vocab = sorted(set(text))\n",
    "print(f'{len(vocab)} unique characters')\n",
    "print(vocab)"
   ]
  },
  {
   "cell_type": "markdown",
   "id": "a2bf81ea",
   "metadata": {},
   "source": [
    "### Zpracování textu na tokeny"
   ]
  },
  {
   "cell_type": "code",
   "execution_count": null,
   "id": "ee94e120",
   "metadata": {},
   "outputs": [
    {
     "name": "stdout",
     "output_type": "stream",
     "text": [
      "\n",
      " !$&',-.3:;?ABCDEFGHIJKLMNOPQRSTUVWXYZabcdefghijklmnopqrstuvwxyz\n"
     ]
    }
   ],
   "source": [
    "allowed_characters = ''.join(vocab)\n",
    "print(allowed_characters)\n",
    "n_letters = len(vocab)"
   ]
  },
  {
   "cell_type": "code",
   "execution_count": null,
   "id": "0d4829d4",
   "metadata": {},
   "outputs": [],
   "source": [
    "# Find letter index from all_letters, e.g. \"a\" = 0\n",
    "def letterToIndex(letter):\n",
    "    # return our out-of-vocabulary character if we encounter a letter unknown to our model\n",
    "    if letter not in allowed_characters:\n",
    "        return allowed_characters.find(\"_\")\n",
    "    else:\n",
    "        return allowed_characters.find(letter)\n",
    "\n",
    "# Turn a line into a <line_length x 1 x n_letters>,\n",
    "# or an array of one-hot letter vectors\n",
    "def nameToTensor(line):\n",
    "    tensor = torch.zeros(len(line), 1, n_letters)\n",
    "    for li, letter in enumerate(line):\n",
    "        tensor[li][0][letterToIndex(letter)] = 1\n",
    "    return tensor"
   ]
  },
  {
   "cell_type": "markdown",
   "id": "8da07c73",
   "metadata": {},
   "source": [
    "## Zdroje"
   ]
  },
  {
   "cell_type": "markdown",
   "id": "95d42db7",
   "metadata": {},
   "source": [
    "https://docs.pytorch.org/tutorials/intermediate/char_rnn_classification_tutorial.html\n",
    "\n",
    "https://www.tensorflow.org/text/tutorials/text_generation"
   ]
  }
 ],
 "metadata": {
  "kernelspec": {
   "display_name": ".venv",
   "language": "python",
   "name": "python3"
  },
  "language_info": {
   "codemirror_mode": {
    "name": "ipython",
    "version": 3
   },
   "file_extension": ".py",
   "mimetype": "text/x-python",
   "name": "python",
   "nbconvert_exporter": "python",
   "pygments_lexer": "ipython3",
   "version": "3.10.7"
  }
 },
 "nbformat": 4,
 "nbformat_minor": 5
}
