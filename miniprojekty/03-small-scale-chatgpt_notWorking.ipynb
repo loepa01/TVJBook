{
 "cells": [
  {
   "cell_type": "markdown",
   "id": "5613e265",
   "metadata": {},
   "source": [
    "# 2. Small-scale ChatGPT - generování textu pomocí neuronových sítí"
   ]
  },
  {
   "cell_type": "markdown",
   "id": "92f05718",
   "metadata": {},
   "source": [
    "!pip install -r requirements.txt"
   ]
  },
  {
   "cell_type": "code",
   "execution_count": 46,
   "id": "db8f1c17",
   "metadata": {},
   "outputs": [],
   "source": [
    "import matplotlib.pyplot as plt\n",
    "import numpy as np\n",
    "import torch"
   ]
  },
  {
   "cell_type": "code",
   "execution_count": 47,
   "id": "6c9b1360",
   "metadata": {},
   "outputs": [
    {
     "data": {
      "text/plain": [
       "'cuda'"
      ]
     },
     "execution_count": 47,
     "metadata": {},
     "output_type": "execute_result"
    }
   ],
   "source": [
    "# Make device agnostic code\n",
    "device = \"cuda\" if torch.cuda.is_available() else \"cpu\"\n",
    "device"
   ]
  },
  {
   "cell_type": "code",
   "execution_count": 48,
   "id": "c056da44",
   "metadata": {},
   "outputs": [],
   "source": [
    "#device = 'cpu'  # Force CPU for this example"
   ]
  },
  {
   "cell_type": "code",
   "execution_count": 49,
   "id": "f67efa21",
   "metadata": {},
   "outputs": [
    {
     "data": {
      "text/plain": [
       "device(type='cuda')"
      ]
     },
     "execution_count": 49,
     "metadata": {},
     "output_type": "execute_result"
    }
   ],
   "source": [
    "torch.device(device)"
   ]
  },
  {
   "cell_type": "markdown",
   "id": "62639afd",
   "metadata": {},
   "source": [
    "# Generování jmen pomocí jednoduché RNN"
   ]
  },
  {
   "cell_type": "markdown",
   "id": "e26c18dc",
   "metadata": {},
   "source": [
    "## Příprava dat\n",
    "\n",
    "Databáze evropských jmen a příjmení: https://data.europa.eu/data/datasets/5bc35259634f41122d982759?locale=cs\n",
    "\n",
    "Složka /datasets/SeznamJmenCR"
   ]
  },
  {
   "cell_type": "code",
   "execution_count": 50,
   "id": "151d04e5",
   "metadata": {},
   "outputs": [],
   "source": [
    "import glob\n",
    "import pandas as pd"
   ]
  },
  {
   "cell_type": "code",
   "execution_count": 51,
   "id": "2d872360",
   "metadata": {},
   "outputs": [
    {
     "data": {
      "text/plain": [
       "(11331,)"
      ]
     },
     "execution_count": 51,
     "metadata": {},
     "output_type": "execute_result"
    }
   ],
   "source": [
    "dfs = pd.read_csv('datasets/SeznamJmenCR/OpenData_-_Seznam_jmen_k_2025-05-31.csv', encoding='utf-8')\n",
    "jmena_typ = dfs.iloc[:, 0]\n",
    "jmena_all = dfs.iloc[:, 1]\n",
    "jmena_all.shape"
   ]
  },
  {
   "cell_type": "code",
   "execution_count": 52,
   "id": "765be36d",
   "metadata": {},
   "outputs": [
    {
     "data": {
      "text/plain": [
       "((11172,), (11172,))"
      ]
     },
     "execution_count": 52,
     "metadata": {},
     "output_type": "execute_result"
    }
   ],
   "source": [
    "jmena_all, idx = np.unique(jmena_all, return_index=True)\n",
    "jmena_typ = jmena_typ[idx]\n",
    "jmena_all.shape, jmena_typ.shape"
   ]
  },
  {
   "cell_type": "code",
   "execution_count": 53,
   "id": "0ae13d60",
   "metadata": {},
   "outputs": [
    {
     "data": {
      "text/plain": [
       "array(['AADAR', 'AAGTE', 'AAI', 'AAIKE', 'AAJARAQ', 'AAJU', 'AAJUNNGUAQ',\n",
       "       'AAKA', 'AAKKULUK', 'AAL', 'AALIYAH'], dtype=object)"
      ]
     },
     "execution_count": 53,
     "metadata": {},
     "output_type": "execute_result"
    }
   ],
   "source": [
    "jmena_all[:11]  # every 150th name"
   ]
  },
  {
   "cell_type": "markdown",
   "id": "aa02a026",
   "metadata": {},
   "source": [
    "Vyčištění speciálních znaků"
   ]
  },
  {
   "cell_type": "code",
   "execution_count": 54,
   "id": "3c5b471b",
   "metadata": {},
   "outputs": [
    {
     "data": {
      "text/plain": [
       "11172"
      ]
     },
     "execution_count": 54,
     "metadata": {},
     "output_type": "execute_result"
    }
   ],
   "source": [
    "import string\n",
    "\n",
    "jmena_all2 = []\n",
    "\n",
    "# Set vocab to all utf-8 printable characters\n",
    "vocab = list('`1234567890-=[];\\',./*-+.~!@#$%^&*()_+{}:\"|<>?')\n",
    "\n",
    "for jmeno in jmena_all:\n",
    "    cleaned = ''.join([ch for ch in str(jmeno) if ch not in vocab])\n",
    "    first_seq = cleaned.split()[0] if cleaned.split() else ''\n",
    "    jmena_all2.append(first_seq)\n",
    "    \n",
    "jmena_all2 = np.array(jmena_all2)\n",
    "jmena_typ = np.array(jmena_typ)\n",
    "len(jmena_all2)"
   ]
  },
  {
   "cell_type": "code",
   "execution_count": 55,
   "id": "a7a64908",
   "metadata": {},
   "outputs": [
    {
     "data": {
      "text/plain": [
       "((11153,), (11153,))"
      ]
     },
     "execution_count": 55,
     "metadata": {},
     "output_type": "execute_result"
    }
   ],
   "source": [
    "jmena_all2, idx = np.unique(jmena_all2, return_index=True)\n",
    "jmena_typ2 = jmena_typ[idx]\n",
    "jmena_all2.shape, jmena_typ2.shape"
   ]
  },
  {
   "cell_type": "code",
   "execution_count": 56,
   "id": "0564d59a",
   "metadata": {},
   "outputs": [
    {
     "name": "stdout",
     "output_type": "stream",
     "text": [
      "[]\n"
     ]
    }
   ],
   "source": [
    "positions = np.where(jmena_all2 == 'JAN **')[0]\n",
    "print(positions)"
   ]
  },
  {
   "cell_type": "markdown",
   "id": "7b3f5f35",
   "metadata": {},
   "source": [
    "EOS = '\\n', START = '$'\n",
    "\n",
    "<img src=\"../images/names.png\" alt=\"Rekurentní neuronová síť\" width=\"800\"/>"
   ]
  },
  {
   "cell_type": "code",
   "execution_count": 110,
   "id": "d1b993e1",
   "metadata": {},
   "outputs": [
    {
     "name": "stdout",
     "output_type": "stream",
     "text": [
      "62 unique characters\n",
      "['A' 'B' 'C' 'D' 'E' 'F' 'G' 'H' 'I' 'J' 'K' 'L' 'M' 'N' 'O' 'P' 'Q' 'R'\n",
      " 'S' 'T' 'U' 'V' 'W' 'X' 'Y' 'Z' 'i' 'Á' 'Â' 'Ä' 'Æ' 'Ç' 'É' 'Ë' 'Í' 'Ï'\n",
      " 'Ó' 'Ô' 'Ö' 'Ø' 'Ú' 'Û' 'Ü' 'Ý' 'Ć' 'Č' 'Ď' 'Ě' 'Ľ' 'Ł' 'Ň' 'Ř' 'Ş' 'Š'\n",
      " 'Ť' 'Ů' 'Ű' 'Ź' 'Ż' 'Ž' 'ʼ' '$']\n"
     ]
    }
   ],
   "source": [
    "# The unique characters in the file\n",
    "vocab = np.array(sorted(set(''.join(jmena_all2))))\n",
    "\n",
    "# insert special starting character\n",
    "vocab = np.append(vocab,'$')\n",
    "\n",
    "print(f'{len(vocab)} unique characters')\n",
    "print(vocab)"
   ]
  },
  {
   "cell_type": "markdown",
   "id": "0eb75fb1",
   "metadata": {},
   "source": [
    "### Zpracování textu na tokeny"
   ]
  },
  {
   "cell_type": "code",
   "execution_count": 111,
   "id": "ce9b62eb",
   "metadata": {},
   "outputs": [
    {
     "name": "stdout",
     "output_type": "stream",
     "text": [
      "ABCDEFGHIJKLMNOPQRSTUVWXYZiÁÂÄÆÇÉËÍÏÓÔÖØÚÛÜÝĆČĎĚĽŁŇŘŞŠŤŮŰŹŻŽʼ$\n"
     ]
    }
   ],
   "source": [
    "allowed_characters = ''.join(vocab)\n",
    "print(allowed_characters)\n",
    "n_letters = len(vocab)"
   ]
  },
  {
   "cell_type": "code",
   "execution_count": 112,
   "id": "cfb4db6e",
   "metadata": {},
   "outputs": [],
   "source": [
    "# Find letter index from all_letters, e.g. \"a\" = 0\n",
    "def letterToIndex(letter):\n",
    "    # return our out-of-vocabulary character if we encounter a letter unknown to our model\n",
    "    if letter not in allowed_characters:\n",
    "        return allowed_characters.find(\"\\n\")\n",
    "    else:\n",
    "        return allowed_characters.find(letter)\n",
    "\n",
    "# Turn a name into a <line_length x 1 x n_letters>,\n",
    "# or an array of one-hot letter vectors\n",
    "def nameToTensor(name):\n",
    "    tensor = torch.zeros(len(name), 1, n_letters)\n",
    "    for li, letter in enumerate(name):\n",
    "        tensor[li][0][letterToIndex(letter)] = 1\n",
    "    return tensor\n",
    "\n",
    "def nameToTarget(name):\n",
    "    tensor = torch.zeros(len(name))\n",
    "    for li, letter in enumerate(name):\n",
    "        tensor[li] = letterToIndex(letter)\n",
    "    return tensor\n",
    "\n",
    "def tensorToName(tensor):\n",
    "    idxs = torch.argmax(tensor, dim=-1).numpy().squeeze()\n",
    "    return ''.join(vocab[idxs][:])"
   ]
  },
  {
   "cell_type": "markdown",
   "id": "049aa0c8",
   "metadata": {},
   "source": [
    "Přidání START a EOS znaků"
   ]
  },
  {
   "cell_type": "code",
   "execution_count": 113,
   "id": "c68bf3dc",
   "metadata": {},
   "outputs": [
    {
     "data": {
      "text/plain": [
       "((11153,),\n",
       " array(['AADAR', 'AAGTE', 'AAI', 'AAIKE', 'AAJARAQ', 'AAJU', 'AAJUNNGUAQ',\n",
       "        'AAKA', 'AAKKULUK', 'AAL'], dtype='<U18'),\n",
       " array(['ADAR$', 'AGTE$', 'AI$', 'AIKE$', 'AJARAQ$', 'AJU$', 'AJUNNGUAQ$',\n",
       "        'AKA$', 'AKKULUK$', 'AL$'], dtype='<U18'))"
      ]
     },
     "execution_count": 113,
     "metadata": {},
     "output_type": "execute_result"
    }
   ],
   "source": [
    "#jmena_input = '$'+jmena_all2[:]\n",
    "jmena_input = jmena_all2[:]\n",
    "jmena_output = np.array([jmeno[1:] +'$' for jmeno in jmena_all2])\n",
    "jmena_output.shape, jmena_input[:10], jmena_output[:10]"
   ]
  },
  {
   "cell_type": "code",
   "execution_count": 114,
   "id": "33b6c845",
   "metadata": {},
   "outputs": [
    {
     "data": {
      "text/plain": [
       "(np.str_('JAN'),\n",
       " tensor([[[0., 0., 0., 0., 0., 0., 0., 0., 0., 1., 0., 0., 0., 0., 0., 0., 0.,\n",
       "           0., 0., 0., 0., 0., 0., 0., 0., 0., 0., 0., 0., 0., 0., 0., 0., 0.,\n",
       "           0., 0., 0., 0., 0., 0., 0., 0., 0., 0., 0., 0., 0., 0., 0., 0., 0.,\n",
       "           0., 0., 0., 0., 0., 0., 0., 0., 0., 0., 0.]],\n",
       " \n",
       "         [[1., 0., 0., 0., 0., 0., 0., 0., 0., 0., 0., 0., 0., 0., 0., 0., 0.,\n",
       "           0., 0., 0., 0., 0., 0., 0., 0., 0., 0., 0., 0., 0., 0., 0., 0., 0.,\n",
       "           0., 0., 0., 0., 0., 0., 0., 0., 0., 0., 0., 0., 0., 0., 0., 0., 0.,\n",
       "           0., 0., 0., 0., 0., 0., 0., 0., 0., 0., 0.]],\n",
       " \n",
       "         [[0., 0., 0., 0., 0., 0., 0., 0., 0., 0., 0., 0., 0., 1., 0., 0., 0.,\n",
       "           0., 0., 0., 0., 0., 0., 0., 0., 0., 0., 0., 0., 0., 0., 0., 0., 0.,\n",
       "           0., 0., 0., 0., 0., 0., 0., 0., 0., 0., 0., 0., 0., 0., 0., 0., 0.,\n",
       "           0., 0., 0., 0., 0., 0., 0., 0., 0., 0., 0.]]]))"
      ]
     },
     "execution_count": 114,
     "metadata": {},
     "output_type": "execute_result"
    }
   ],
   "source": [
    "id = 4540\n",
    "tensor_name = nameToTensor(jmena_input[id])\n",
    "jmena_input[id], tensor_name"
   ]
  },
  {
   "cell_type": "code",
   "execution_count": 115,
   "id": "fe713769",
   "metadata": {},
   "outputs": [
    {
     "data": {
      "text/plain": [
       "(np.str_('AN$'),\n",
       " tensor([[[1., 0., 0., 0., 0., 0., 0., 0., 0., 0., 0., 0., 0., 0., 0., 0., 0.,\n",
       "           0., 0., 0., 0., 0., 0., 0., 0., 0., 0., 0., 0., 0., 0., 0., 0., 0.,\n",
       "           0., 0., 0., 0., 0., 0., 0., 0., 0., 0., 0., 0., 0., 0., 0., 0., 0.,\n",
       "           0., 0., 0., 0., 0., 0., 0., 0., 0., 0., 0.]],\n",
       " \n",
       "         [[0., 0., 0., 0., 0., 0., 0., 0., 0., 0., 0., 0., 0., 1., 0., 0., 0.,\n",
       "           0., 0., 0., 0., 0., 0., 0., 0., 0., 0., 0., 0., 0., 0., 0., 0., 0.,\n",
       "           0., 0., 0., 0., 0., 0., 0., 0., 0., 0., 0., 0., 0., 0., 0., 0., 0.,\n",
       "           0., 0., 0., 0., 0., 0., 0., 0., 0., 0., 0.]],\n",
       " \n",
       "         [[0., 0., 0., 0., 0., 0., 0., 0., 0., 0., 0., 0., 0., 0., 0., 0., 0.,\n",
       "           0., 0., 0., 0., 0., 0., 0., 0., 0., 0., 0., 0., 0., 0., 0., 0., 0.,\n",
       "           0., 0., 0., 0., 0., 0., 0., 0., 0., 0., 0., 0., 0., 0., 0., 0., 0.,\n",
       "           0., 0., 0., 0., 0., 0., 0., 0., 0., 0., 1.]]]))"
      ]
     },
     "execution_count": 115,
     "metadata": {},
     "output_type": "execute_result"
    }
   ],
   "source": [
    "id = 4540\n",
    "tensor_name = nameToTensor(jmena_output[id])\n",
    "jmena_output[id], tensor_name"
   ]
  },
  {
   "cell_type": "code",
   "execution_count": 116,
   "id": "efef75fd",
   "metadata": {},
   "outputs": [
    {
     "data": {
      "text/plain": [
       "'AN$'"
      ]
     },
     "execution_count": 116,
     "metadata": {},
     "output_type": "execute_result"
    }
   ],
   "source": [
    "tensorToName(tensor_name)"
   ]
  },
  {
   "cell_type": "markdown",
   "id": "5dd7edc0",
   "metadata": {},
   "source": [
    "Finální převedení všech jmen do one-hot formátu:"
   ]
  },
  {
   "cell_type": "code",
   "execution_count": 117,
   "id": "c793b302",
   "metadata": {},
   "outputs": [
    {
     "data": {
      "text/plain": [
       "(11153, torch.Size([5, 1, 62]), torch.Size([5]))"
      ]
     },
     "execution_count": 117,
     "metadata": {},
     "output_type": "execute_result"
    }
   ],
   "source": [
    "X_train = []\n",
    "y_train = []  # shifted data \n",
    "\n",
    "for i in range(len(jmena_input)):\n",
    "    X_train.append(nameToTensor(jmena_input[i]))\n",
    "    y_train.append(nameToTarget(jmena_input[i]))\n",
    "    \n",
    "len(X_train), X_train[0].shape, y_train[0].shape"
   ]
  },
  {
   "cell_type": "markdown",
   "id": "0b659044",
   "metadata": {},
   "source": [
    "## Konstrukce neuronové sítě"
   ]
  },
  {
   "cell_type": "code",
   "execution_count": 127,
   "id": "fd662d4e",
   "metadata": {},
   "outputs": [
    {
     "name": "stdout",
     "output_type": "stream",
     "text": [
      "CharRNN(\n",
      "  (i2h): Linear(in_features=62, out_features=128, bias=True)\n",
      "  (h2h): Linear(in_features=128, out_features=128, bias=True)\n",
      "  (h2o): Linear(in_features=128, out_features=62, bias=True)\n",
      "  (relu): ReLU()\n",
      "  (dropout): Dropout(p=0.1, inplace=False)\n",
      "  (softmax): LogSoftmax(dim=1)\n",
      ")\n"
     ]
    }
   ],
   "source": [
    "import torch.nn as nn\n",
    "import torch.nn.functional as F\n",
    "import torch.optim as optim\n",
    "\n",
    "class CharRNN(nn.Module):\n",
    "    def __init__(self, input_size, hidden_size, output_size):\n",
    "        super(CharRNN, self).__init__()\n",
    "\n",
    "        self.i2h = nn.Linear(input_size, hidden_size)\n",
    "        self.h2h = nn.Linear(hidden_size, hidden_size)\n",
    "        self.h2o = nn.Linear(hidden_size, output_size)\n",
    "        self.relu = nn.ReLU()\n",
    "        self.dropout = nn.Dropout(0.1)\n",
    "        self.softmax = nn.LogSoftmax(dim=1)\n",
    "        \"\"\"\n",
    "        self.rnn = nn.RNN(input_size, hidden_size, nonlinearity='tanh')\n",
    "        self.h2o = nn.Linear(hidden_size, output_size)\n",
    "        self.dropout = nn.Dropout(0.1)\n",
    "        self.softmax = nn.LogSoftmax(dim=-1)\n",
    "        \"\"\"\n",
    "        \n",
    "        self.hidden_size = hidden_size\n",
    "        self.hidden = torch.zeros(1, 1, self.hidden_size).to(device)\n",
    "\n",
    "    def forward(self, input):\n",
    "        embedding = self.i2h(input)\n",
    "        self.hidden = self.h2h(self.hidden)\n",
    "        output = self.h2o(embedding + self.hidden)\n",
    "        #output = self.relu(output)\n",
    "        output = self.dropout(output)\n",
    "        output = self.softmax(output)\n",
    "        \"\"\"\n",
    "        output, self.hidden = self.rnn(input, self.hidden)\n",
    "        output = self.h2o(output)\n",
    "        output = self.dropout(output)\n",
    "        output = self.softmax(output)\n",
    "        \"\"\"\n",
    "        return output\n",
    "\n",
    "    def initHidden(self):\n",
    "        self.hidden = torch.zeros(1, self.hidden_size).to(device)\n",
    "\n",
    "n_hidden = 128\n",
    "model = CharRNN(n_letters, n_hidden, n_letters).to(device)\n",
    "print(model)\n",
    "\n",
    "# loss function and optimizer\n",
    "loss_fn = nn.NLLLoss().to(device)  # cross entropy\n",
    "learning_rate = 0.001"
   ]
  },
  {
   "cell_type": "code",
   "execution_count": 128,
   "id": "d1ccb6b5",
   "metadata": {},
   "outputs": [
    {
     "name": "stdout",
     "output_type": "stream",
     "text": [
      "----------------------------------------------------------------\n",
      "        Layer (type)               Output Shape         Param #\n",
      "================================================================\n",
      "            Linear-1               [-1, 1, 128]           8,064\n",
      "            Linear-2               [-1, 1, 128]          16,512\n",
      "            Linear-3                [-1, 1, 62]           7,998\n",
      "           Dropout-4                [-1, 1, 62]               0\n",
      "        LogSoftmax-5                [-1, 1, 62]               0\n",
      "================================================================\n",
      "Total params: 32,574\n",
      "Trainable params: 32,574\n",
      "Non-trainable params: 0\n",
      "----------------------------------------------------------------\n",
      "Input size (MB): 0.00\n",
      "Forward/backward pass size (MB): 0.00\n",
      "Params size (MB): 0.12\n",
      "Estimated Total Size (MB): 0.13\n",
      "----------------------------------------------------------------\n"
     ]
    }
   ],
   "source": [
    "from torchsummary import summary\n",
    "\n",
    "input_size = (1,len(vocab))\n",
    "summary(model, input_size=input_size, device=device)"
   ]
  },
  {
   "cell_type": "markdown",
   "id": "808e74b1",
   "metadata": {},
   "source": [
    "## Trénování neuronové sítě"
   ]
  },
  {
   "cell_type": "code",
   "execution_count": null,
   "id": "3215cde1",
   "metadata": {},
   "outputs": [
    {
     "name": "stdout",
     "output_type": "stream",
     "text": [
      "Epoch: 1 | Loss: 19.70009                           \n",
      "Epoch: 2 | Loss: 14.75453                           \n",
      "Epoch: 3 | Loss: 11.89950                           \n",
      "Epoch: 4 | Loss: 9.80770                           \n",
      "Epoch: 5 | Loss: 8.51143                           \n",
      "Epoch: 6 | Loss: 7.11570                           \n",
      "Epoch: 7 | Loss: 6.20280                           \n",
      "Epoch: 8 | Loss: 5.43189                           \n",
      "Epoch: 9 | Loss: 5.16958                           \n",
      "Epoch: 10 | Loss: 4.69415                           \n",
      "Epoch: 11 | Loss: 4.28168                           \n",
      "Epoch: 12 | Loss: 3.97117                           \n",
      "Epoch: 13 | Loss: 3.90235                           \n",
      "Epoch: 14 | Loss: 3.72572                           \n",
      "Epoch: 15 | Loss: 3.33085                           \n",
      "Epoch: 16 | Loss: 3.39560                           \n",
      "Epoch: 17 | Loss: 3.19796                           \n",
      "Epoch: 18 | Loss: 3.09224                           \n",
      "Epoch: 19 | Loss: 2.91437                           \n",
      "Epoch: 20 | Loss: 2.98850                           \n",
      "Epoch 21/100, Batch 55/1000 | Loss: 3.468487\r"
     ]
    },
    {
     "ename": "KeyboardInterrupt",
     "evalue": "",
     "output_type": "error",
     "traceback": [
      "\u001b[31m---------------------------------------------------------------------------\u001b[39m",
      "\u001b[31mKeyboardInterrupt\u001b[39m                         Traceback (most recent call last)",
      "\u001b[36mCell\u001b[39m\u001b[36m \u001b[39m\u001b[32mIn[129]\u001b[39m\u001b[32m, line 38\u001b[39m\n\u001b[32m     35\u001b[39m     l = loss_fn(output.squeeze(), y_output[j])\n\u001b[32m     36\u001b[39m     loss += l\n\u001b[32m---> \u001b[39m\u001b[32m38\u001b[39m \u001b[43mloss\u001b[49m\u001b[43m.\u001b[49m\u001b[43mbackward\u001b[49m\u001b[43m(\u001b[49m\u001b[43m)\u001b[49m\n\u001b[32m     40\u001b[39m \u001b[38;5;28;01mfor\u001b[39;00m p \u001b[38;5;129;01min\u001b[39;00m model.parameters():\n\u001b[32m     41\u001b[39m     p.data.add_(p.grad.data, alpha=-learning_rate)\n",
      "\u001b[36mFile \u001b[39m\u001b[32m~/TVJBook/.venv/lib/python3.13/site-packages/torch/_tensor.py:648\u001b[39m, in \u001b[36mTensor.backward\u001b[39m\u001b[34m(self, gradient, retain_graph, create_graph, inputs)\u001b[39m\n\u001b[32m    638\u001b[39m \u001b[38;5;28;01mif\u001b[39;00m has_torch_function_unary(\u001b[38;5;28mself\u001b[39m):\n\u001b[32m    639\u001b[39m     \u001b[38;5;28;01mreturn\u001b[39;00m handle_torch_function(\n\u001b[32m    640\u001b[39m         Tensor.backward,\n\u001b[32m    641\u001b[39m         (\u001b[38;5;28mself\u001b[39m,),\n\u001b[32m   (...)\u001b[39m\u001b[32m    646\u001b[39m         inputs=inputs,\n\u001b[32m    647\u001b[39m     )\n\u001b[32m--> \u001b[39m\u001b[32m648\u001b[39m \u001b[43mtorch\u001b[49m\u001b[43m.\u001b[49m\u001b[43mautograd\u001b[49m\u001b[43m.\u001b[49m\u001b[43mbackward\u001b[49m\u001b[43m(\u001b[49m\n\u001b[32m    649\u001b[39m \u001b[43m    \u001b[49m\u001b[38;5;28;43mself\u001b[39;49m\u001b[43m,\u001b[49m\u001b[43m \u001b[49m\u001b[43mgradient\u001b[49m\u001b[43m,\u001b[49m\u001b[43m \u001b[49m\u001b[43mretain_graph\u001b[49m\u001b[43m,\u001b[49m\u001b[43m \u001b[49m\u001b[43mcreate_graph\u001b[49m\u001b[43m,\u001b[49m\u001b[43m \u001b[49m\u001b[43minputs\u001b[49m\u001b[43m=\u001b[49m\u001b[43minputs\u001b[49m\n\u001b[32m    650\u001b[39m \u001b[43m\u001b[49m\u001b[43m)\u001b[49m\n",
      "\u001b[36mFile \u001b[39m\u001b[32m~/TVJBook/.venv/lib/python3.13/site-packages/torch/autograd/__init__.py:353\u001b[39m, in \u001b[36mbackward\u001b[39m\u001b[34m(tensors, grad_tensors, retain_graph, create_graph, grad_variables, inputs)\u001b[39m\n\u001b[32m    348\u001b[39m     retain_graph = create_graph\n\u001b[32m    350\u001b[39m \u001b[38;5;66;03m# The reason we repeat the same comment below is that\u001b[39;00m\n\u001b[32m    351\u001b[39m \u001b[38;5;66;03m# some Python versions print out the first line of a multi-line function\u001b[39;00m\n\u001b[32m    352\u001b[39m \u001b[38;5;66;03m# calls in the traceback and some print out the last line\u001b[39;00m\n\u001b[32m--> \u001b[39m\u001b[32m353\u001b[39m \u001b[43m_engine_run_backward\u001b[49m\u001b[43m(\u001b[49m\n\u001b[32m    354\u001b[39m \u001b[43m    \u001b[49m\u001b[43mtensors\u001b[49m\u001b[43m,\u001b[49m\n\u001b[32m    355\u001b[39m \u001b[43m    \u001b[49m\u001b[43mgrad_tensors_\u001b[49m\u001b[43m,\u001b[49m\n\u001b[32m    356\u001b[39m \u001b[43m    \u001b[49m\u001b[43mretain_graph\u001b[49m\u001b[43m,\u001b[49m\n\u001b[32m    357\u001b[39m \u001b[43m    \u001b[49m\u001b[43mcreate_graph\u001b[49m\u001b[43m,\u001b[49m\n\u001b[32m    358\u001b[39m \u001b[43m    \u001b[49m\u001b[43minputs\u001b[49m\u001b[43m,\u001b[49m\n\u001b[32m    359\u001b[39m \u001b[43m    \u001b[49m\u001b[43mallow_unreachable\u001b[49m\u001b[43m=\u001b[49m\u001b[38;5;28;43;01mTrue\u001b[39;49;00m\u001b[43m,\u001b[49m\n\u001b[32m    360\u001b[39m \u001b[43m    \u001b[49m\u001b[43maccumulate_grad\u001b[49m\u001b[43m=\u001b[49m\u001b[38;5;28;43;01mTrue\u001b[39;49;00m\u001b[43m,\u001b[49m\n\u001b[32m    361\u001b[39m \u001b[43m\u001b[49m\u001b[43m)\u001b[49m\n",
      "\u001b[36mFile \u001b[39m\u001b[32m~/TVJBook/.venv/lib/python3.13/site-packages/torch/autograd/graph.py:824\u001b[39m, in \u001b[36m_engine_run_backward\u001b[39m\u001b[34m(t_outputs, *args, **kwargs)\u001b[39m\n\u001b[32m    822\u001b[39m     unregister_hooks = _register_logging_hooks_on_whole_graph(t_outputs)\n\u001b[32m    823\u001b[39m \u001b[38;5;28;01mtry\u001b[39;00m:\n\u001b[32m--> \u001b[39m\u001b[32m824\u001b[39m     \u001b[38;5;28;01mreturn\u001b[39;00m \u001b[43mVariable\u001b[49m\u001b[43m.\u001b[49m\u001b[43m_execution_engine\u001b[49m\u001b[43m.\u001b[49m\u001b[43mrun_backward\u001b[49m\u001b[43m(\u001b[49m\u001b[43m  \u001b[49m\u001b[38;5;66;43;03m# Calls into the C++ engine to run the backward pass\u001b[39;49;00m\n\u001b[32m    825\u001b[39m \u001b[43m        \u001b[49m\u001b[43mt_outputs\u001b[49m\u001b[43m,\u001b[49m\u001b[43m \u001b[49m\u001b[43m*\u001b[49m\u001b[43margs\u001b[49m\u001b[43m,\u001b[49m\u001b[43m \u001b[49m\u001b[43m*\u001b[49m\u001b[43m*\u001b[49m\u001b[43mkwargs\u001b[49m\n\u001b[32m    826\u001b[39m \u001b[43m    \u001b[49m\u001b[43m)\u001b[49m  \u001b[38;5;66;03m# Calls into the C++ engine to run the backward pass\u001b[39;00m\n\u001b[32m    827\u001b[39m \u001b[38;5;28;01mfinally\u001b[39;00m:\n\u001b[32m    828\u001b[39m     \u001b[38;5;28;01mif\u001b[39;00m attach_logging_hooks:\n",
      "\u001b[31mKeyboardInterrupt\u001b[39m: "
     ]
    }
   ],
   "source": [
    "n_epochs = 100    # number of epochs to run\n",
    "epoch_iter = 1000\n",
    "\n",
    "loss_array = []  # to store loss values\n",
    "loss_array_epoch = []  # to store loss values\n",
    "\n",
    "# Put data to target device\n",
    "#X_train = X_train.to(device)\n",
    "#y_train = y_train.to(device)\n",
    "\n",
    "# Build training and evaluation loop\n",
    "for epoch in range(n_epochs):\n",
    "    \n",
    "    indices = np.random.randint(0, len(jmena_input), size=epoch_iter)\n",
    "    #print(indices)\n",
    "    \n",
    "    model.train()\n",
    "    \n",
    "    ### Training    \n",
    "    for i in range(len(indices)):\n",
    "        ind = indices[i]\n",
    "        \n",
    "        X_input = X_train[ind].to(device)\n",
    "        y_output = y_train[ind].type(torch.LongTensor).to(device)\n",
    "        \n",
    "        model.initHidden()\n",
    "\n",
    "        model.zero_grad()\n",
    "\n",
    "        loss = torch.Tensor([0]).to(device) # you can also just simply use ``loss = 0``\n",
    "\n",
    "        for j in range(X_input.size(0)):\n",
    "            output = model(X_input[j])\n",
    "            #print(output, y_output[j])\n",
    "            l = loss_fn(output.squeeze(), y_output[j])\n",
    "            loss += l\n",
    "\n",
    "        loss.backward()\n",
    "\n",
    "        for p in model.parameters():\n",
    "            p.data.add_(p.grad.data, alpha=-learning_rate)\n",
    "\n",
    "        #return output, loss.item() / input_line_tensor.size(0)\n",
    "        \n",
    "        loss_array.append(loss.item())\n",
    "        \n",
    "        print(f'Epoch {epoch + 1}/{n_epochs}, Batch {i + 1}/{epoch_iter} | Loss: {loss.item():.5f}', end='\\r')\n",
    "        \n",
    "    loss_array_epoch.append(np.mean(loss_array[-epoch_iter:]))\n",
    "    print(f\"Epoch: {epoch + 1} | Loss: {loss_array_epoch[-1]:.5f}                           \")\n",
    "        "
   ]
  },
  {
   "cell_type": "code",
   "execution_count": 130,
   "id": "5e958ebd",
   "metadata": {},
   "outputs": [
    {
     "data": {
      "image/png": "[encoded data removed]",
      "text/plain": [
       "<Figure size 800x500 with 1 Axes>"
      ]
     },
     "metadata": {},
     "output_type": "display_data"
    }
   ],
   "source": [
    "def running_mean(x, N):\n",
    "    cumsum = np.cumsum(np.insert(x, 0, 0)) \n",
    "    r_avg = (cumsum[N:] - cumsum[:-N]) / float(N)\n",
    "    res = np.zeros(len(x))\n",
    "    res[N-1:] = r_avg\n",
    "    for i in range(N-1):\n",
    "        res[i] = (cumsum[i+1]) / float(i+1)\n",
    "    return res\n",
    "\n",
    "plt.figure(figsize=(8, 5))\n",
    "plt.plot(loss_array_epoch, label='Training Loss')\n",
    "N_avg = 50  # Number of batches to average over\n",
    "#plt.plot(running_mean(loss_array, N_avg), '-', label=f'Running mean ({N_avg} batches)')\n",
    "plt.title('Training Loss')\n",
    "plt.xlabel('Batch Number')\n",
    "plt.ylabel('Loss')\n",
    "plt.yscale('log')\n",
    "plt.legend()\n",
    "plt.tight_layout()"
   ]
  },
  {
   "cell_type": "code",
   "execution_count": 131,
   "id": "b3fe4fa1",
   "metadata": {},
   "outputs": [
    {
     "name": "stdout",
     "output_type": "stream",
     "text": [
      "20250622230732\n"
     ]
    }
   ],
   "source": [
    "import datetime\n",
    "\n",
    "dt = datetime.datetime.now().strftime('%Y%m%d%H%M%S')\n",
    "print(dt)\n",
    "\n",
    "torch.save(model.state_dict(), f'results/model_jmena_rnn_{dt}.pth')"
   ]
  },
  {
   "cell_type": "code",
   "execution_count": null,
   "id": "634c7c7c",
   "metadata": {},
   "outputs": [
    {
     "data": {
      "text/plain": [
       "<All keys matched successfully>"
      ]
     },
     "metadata": {},
     "output_type": "display_data"
    }
   ],
   "source": [
    "model.load_state_dict(torch.load('results/model_jmena_rnn_20250621162737.pth'))"
   ]
  },
  {
   "cell_type": "markdown",
   "id": "fbe9d6a3",
   "metadata": {},
   "source": [
    "## Vzorkování natrénováné RNN"
   ]
  },
  {
   "cell_type": "code",
   "execution_count": 190,
   "id": "6bf835d0",
   "metadata": {},
   "outputs": [
    {
     "data": {
      "text/plain": [
       "torch.Size([1, 62])"
      ]
     },
     "execution_count": 190,
     "metadata": {},
     "output_type": "execute_result"
    }
   ],
   "source": [
    "znak = nameToTensor('O')[0].to(device)\n",
    "jmeno = []\n",
    "model.initHidden()\n",
    "znak.shape"
   ]
  },
  {
   "cell_type": "code",
   "execution_count": 197,
   "id": "6f9c439a",
   "metadata": {},
   "outputs": [
    {
     "name": "stdout",
     "output_type": "stream",
     "text": [
      "torch.Size([1, 1, 62]) tensor([[[0., 0., 0., 0., 0., 0., 0., 0., 0., 0., 0., 0., 0., 0., 0., 0., 0., 0., 0., 0., 0., 0., 0.,\n",
      "          0., 0., 0., 0., 0., 0., 0., 0., 0., 0., 0., 0., 0., 0., 0., 0., 0., 0., 0., 0., 0., 0., 0.,\n",
      "          0., 0., 0., 0., 0., 0., 0., 0., 0., 0., 0., 0., 0., 0., 0., 0.]]],\n",
      "       device='cuda:0')\n",
      "['O', 'A', 'A', 'A', 'A', 'A', 'A']\n"
     ]
    }
   ],
   "source": [
    "with torch.no_grad():\n",
    "    znak = model(znak)\n",
    "    print(znak.shape, znak)\n",
    "    jmeno.append(tensorToName(znak.cpu()))\n",
    "    znak = nameToTensor(jmeno[-1]).to(device)\n",
    "print(jmeno)"
   ]
  },
  {
   "cell_type": "markdown",
   "id": "f1629642",
   "metadata": {},
   "source": [
    "# Generování textu pomocí character-level RNN"
   ]
  },
  {
   "cell_type": "markdown",
   "id": "d1ea5b30",
   "metadata": {},
   "source": [
    "## Příprava dat"
   ]
  },
  {
   "cell_type": "code",
   "execution_count": null,
   "id": "c3e24940",
   "metadata": {},
   "outputs": [
    {
     "name": "stderr",
     "output_type": "stream",
     "text": [
      "100.0%\n"
     ]
    }
   ],
   "source": [
    "import os\n",
    "\n",
    "url = 'https://storage.googleapis.com/download.tensorflow.org/data/shakespeare.txt'\n",
    "path_to_file = 'datasets/shakespeare.txt'\n",
    "\n",
    "if not os.path.exists(path_to_file):\n",
    "    torch.hub.download_url_to_file(url, path_to_file)"
   ]
  },
  {
   "cell_type": "markdown",
   "id": "26aeeba8",
   "metadata": {},
   "source": [
    "### Prozkoumání textu"
   ]
  },
  {
   "cell_type": "code",
   "execution_count": 8,
   "id": "cbf81804",
   "metadata": {},
   "outputs": [
    {
     "name": "stdout",
     "output_type": "stream",
     "text": [
      "Length of text: 1115394 characters\n"
     ]
    }
   ],
   "source": [
    "# Read, then decode for py2 compat.\n",
    "text = open(path_to_file, 'rb').read().decode(encoding='utf-8')\n",
    "# length of text is the number of characters in it\n",
    "print(f'Length of text: {len(text)} characters')"
   ]
  },
  {
   "cell_type": "code",
   "execution_count": 9,
   "id": "8566ca86",
   "metadata": {},
   "outputs": [
    {
     "name": "stdout",
     "output_type": "stream",
     "text": [
      "First Citizen:\n",
      "Before we proceed any further, hear me speak.\n",
      "\n",
      "All:\n",
      "Speak, speak.\n",
      "\n",
      "First Citizen:\n",
      "You are all resolved rather to die than to famish?\n",
      "\n",
      "All:\n",
      "Resolved. resolved.\n",
      "\n",
      "First Citizen:\n",
      "First, you know Caius Marcius is chief enemy to the people.\n",
      "\n"
     ]
    }
   ],
   "source": [
    "# Take a look at the first 250 characters in text\n",
    "print(text[:250])"
   ]
  },
  {
   "cell_type": "code",
   "execution_count": 43,
   "id": "25182095",
   "metadata": {},
   "outputs": [
    {
     "name": "stdout",
     "output_type": "stream",
     "text": [
      "65 unique characters\n",
      "['\\n', ' ', '!', '$', '&', \"'\", ',', '-', '.', '3', ':', ';', '?', 'A', 'B', 'C', 'D', 'E', 'F', 'G', 'H', 'I', 'J', 'K', 'L', 'M', 'N', 'O', 'P', 'Q', 'R', 'S', 'T', 'U', 'V', 'W', 'X', 'Y', 'Z', 'a', 'b', 'c', 'd', 'e', 'f', 'g', 'h', 'i', 'j', 'k', 'l', 'm', 'n', 'o', 'p', 'q', 'r', 's', 't', 'u', 'v', 'w', 'x', 'y', 'z']\n"
     ]
    }
   ],
   "source": [
    "# The unique characters in the file\n",
    "vocab = sorted(set(text))\n",
    "print(f'{len(vocab)} unique characters')\n",
    "print(vocab)"
   ]
  },
  {
   "cell_type": "markdown",
   "id": "a2bf81ea",
   "metadata": {},
   "source": [
    "### Zpracování textu na tokeny"
   ]
  },
  {
   "cell_type": "code",
   "execution_count": null,
   "id": "ee94e120",
   "metadata": {},
   "outputs": [
    {
     "name": "stdout",
     "output_type": "stream",
     "text": [
      "\n",
      " !$&',-.3:;?ABCDEFGHIJKLMNOPQRSTUVWXYZabcdefghijklmnopqrstuvwxyz\n"
     ]
    }
   ],
   "source": [
    "allowed_characters = ''.join(vocab)\n",
    "print(allowed_characters)\n",
    "n_letters = len(vocab)"
   ]
  },
  {
   "cell_type": "code",
   "execution_count": null,
   "id": "0d4829d4",
   "metadata": {},
   "outputs": [],
   "source": [
    "# Find letter index from all_letters, e.g. \"a\" = 0\n",
    "def letterToIndex(letter):\n",
    "    # return our out-of-vocabulary character if we encounter a letter unknown to our model\n",
    "    if letter not in allowed_characters:\n",
    "        return allowed_characters.find(\"_\")\n",
    "    else:\n",
    "        return allowed_characters.find(letter)\n",
    "\n",
    "# Turn a line into a <line_length x 1 x n_letters>,\n",
    "# or an array of one-hot letter vectors\n",
    "def nameToTensor(line):\n",
    "    tensor = torch.zeros(len(line), 1, n_letters)\n",
    "    for li, letter in enumerate(line):\n",
    "        tensor[li][0][letterToIndex(letter)] = 1\n",
    "    return tensor"
   ]
  },
  {
   "cell_type": "markdown",
   "id": "8da07c73",
   "metadata": {},
   "source": [
    "## Zdroje"
   ]
  },
  {
   "cell_type": "markdown",
   "id": "95d42db7",
   "metadata": {},
   "source": [
    "https://docs.pytorch.org/tutorials/intermediate/char_rnn_classification_tutorial.html\n",
    "\n",
    "https://www.tensorflow.org/text/tutorials/text_generation"
   ]
  }
 ],
 "metadata": {
  "kernelspec": {
   "display_name": ".venv",
   "language": "python",
   "name": "python3"
  },
  "language_info": {
   "codemirror_mode": {
    "name": "ipython",
    "version": 3
   },
   "file_extension": ".py",
   "mimetype": "text/x-python",
   "name": "python",
   "nbconvert_exporter": "python",
   "pygments_lexer": "ipython3",
   "version": "3.13.3"
  }
 },
 "nbformat": 4,
 "nbformat_minor": 5
}
